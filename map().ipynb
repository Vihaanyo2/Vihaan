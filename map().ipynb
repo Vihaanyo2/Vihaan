{
  "nbformat": 4,
  "nbformat_minor": 0,
  "metadata": {
    "colab": {
      "provenance": []
    },
    "kernelspec": {
      "name": "python3",
      "display_name": "Python 3"
    },
    "language_info": {
      "name": "python"
    }
  },
  "cells": [
    {
      "cell_type": "code",
      "execution_count": 1,
      "metadata": {
        "colab": {
          "base_uri": "https://localhost:8080/"
        },
        "id": "t3IcZ-kY28jD",
        "outputId": "33da5b49-4b8d-4ae9-86d6-9fb34906b9f6"
      },
      "outputs": [
        {
          "output_type": "stream",
          "name": "stdout",
          "text": [
            "[1, 4, 9, 16, 25]\n"
          ]
        }
      ],
      "source": [
        "numbers = [1, 2, 3, 4, 5]\n",
        "squared_numbers = list(map(lambda x: x**2, numbers))\n",
        "print(squared_numbers)"
      ]
    },
    {
      "cell_type": "code",
      "source": [
        "celsius_temperatures = [0, 10, 20, 30, 40]\n",
        "fahrenheit_temperatures_map_object = map(lambda c: (c * 9/5) + 32, celsius_temperatures)\n",
        "fahrenheit_temperatures = list(fahrenheit_temperatures_map_object)\n",
        "print(fahrenheit_temperatures)"
      ],
      "metadata": {
        "colab": {
          "base_uri": "https://localhost:8080/"
        },
        "id": "b4oPW3OX3ME7",
        "outputId": "6f0c573b-a8f0-4116-f811-b7bbc6a87e15"
      },
      "execution_count": 2,
      "outputs": [
        {
          "output_type": "stream",
          "name": "stdout",
          "text": [
            "[32.0, 50.0, 68.0, 86.0, 104.0]\n"
          ]
        }
      ]
    },
    {
      "cell_type": "code",
      "source": [
        "def capitalize_names_with_map(names):\n",
        "  \"\"\"\n",
        "  names: A list of strings.\n",
        "  A new list with each name capitalized.\n",
        "  \"\"\"\n",
        "  capitalized_map_object = map(str.capitalize, names)\n",
        "  capitalized_names = list(capitalized_map_object)\n",
        "  return capitalized_names\n",
        "\n",
        "names = [\"alice\", \"bob\", \"charlie\"]\n",
        "capitalized_names = capitalize_names_with_map(names)\n",
        "print(capitalized_names)"
      ],
      "metadata": {
        "colab": {
          "base_uri": "https://localhost:8080/"
        },
        "id": "AjxLciNm3ZBy",
        "outputId": "1daec0c4-55bb-4004-d516-0e84a34a6dc0"
      },
      "execution_count": 6,
      "outputs": [
        {
          "output_type": "stream",
          "name": "stdout",
          "text": [
            "['Alice', 'Bob', 'Charlie']\n"
          ]
        }
      ]
    },
    {
      "cell_type": "code",
      "source": [
        "numbers = [1, 2, 3, 4, 5]\n",
        "string_numbers = list(map(str, numbers))\n",
        "print(string_numbers)"
      ],
      "metadata": {
        "colab": {
          "base_uri": "https://localhost:8080/"
        },
        "id": "voebtOhF4BKa",
        "outputId": "f4315d79-edd6-4134-d7ce-cc4db6d902ea"
      },
      "execution_count": 7,
      "outputs": [
        {
          "output_type": "stream",
          "name": "stdout",
          "text": [
            "['1', '2', '3', '4', '5']\n"
          ]
        }
      ]
    },
    {
      "cell_type": "code",
      "source": [
        "list1 = [1, 2, 3]\n",
        "list2 = [4, 5, 6]\n",
        "\n",
        "result_map_object = map(lambda x, y: x + y, list1, list2)\n",
        "result_list = list(result_map_object)\n",
        "\n",
        "print(result_list)"
      ],
      "metadata": {
        "colab": {
          "base_uri": "https://localhost:8080/"
        },
        "id": "6RwH8lUl4L26",
        "outputId": "0e347e01-2a7d-4eb3-cb21-66476ed8414e"
      },
      "execution_count": 8,
      "outputs": [
        {
          "output_type": "stream",
          "name": "stdout",
          "text": [
            "[5, 7, 9]\n"
          ]
        }
      ]
    },
    {
      "cell_type": "code",
      "source": [
        "original_list = [2, 4, 6, 8]\n",
        "multiplied_list = list(map(lambda x: x * 3, original_list))\n",
        "print(multiplied_list)"
      ],
      "metadata": {
        "colab": {
          "base_uri": "https://localhost:8080/"
        },
        "id": "XyZ5XO1v4Qsi",
        "outputId": "6d4dc0d1-291d-4187-c9f2-748ee2999775"
      },
      "execution_count": 9,
      "outputs": [
        {
          "output_type": "stream",
          "name": "stdout",
          "text": [
            "[6, 12, 18, 24]\n"
          ]
        }
      ]
    },
    {
      "cell_type": "code",
      "source": [
        "words = [\"hello\", \"world\", \"python\"]\n",
        "word_lengths_map = map(len, words)\n",
        "lengths = list(word_lengths_map)\n",
        "\n",
        "print(lengths)"
      ],
      "metadata": {
        "colab": {
          "base_uri": "https://localhost:8080/"
        },
        "id": "yJNxRyvV4aFb",
        "outputId": "47cae413-6c26-4d6a-f684-e565441ec19e"
      },
      "execution_count": 10,
      "outputs": [
        {
          "output_type": "stream",
          "name": "stdout",
          "text": [
            "[5, 5, 6]\n"
          ]
        }
      ]
    },
    {
      "cell_type": "code",
      "source": [
        "def convert_to_int_if_numeric(item):\n",
        "    if isinstance(item, int):\n",
        "        return item\n",
        "    elif isinstance(item, str) and item.isdigit():\n",
        "        return int(item)\n",
        "    else:\n",
        "        return item\n",
        "\n",
        "mixed_list = [1, \"2\", \"three\", 4, \"5\"]\n",
        "converted_list = list(map(convert_to_int_if_numeric, mixed_list))\n",
        "\n",
        "print(converted_list)"
      ],
      "metadata": {
        "colab": {
          "base_uri": "https://localhost:8080/"
        },
        "id": "FAQt1r2T4oAK",
        "outputId": "b4da049c-88e5-4187-8fb7-c8b54841dcd1"
      },
      "execution_count": 13,
      "outputs": [
        {
          "output_type": "stream",
          "name": "stdout",
          "text": [
            "[1, 2, 'three', 4, 5]\n"
          ]
        }
      ]
    },
    {
      "cell_type": "code",
      "source": [
        "numbers = [1, 2, 3, 4, 5]\n",
        "cubed_numbers_list = list(map(lambda x: x**3, numbers))\n",
        "print(cubed_numbers_list)"
      ],
      "metadata": {
        "colab": {
          "base_uri": "https://localhost:8080/"
        },
        "id": "YHgsJw7D49p5",
        "outputId": "36bf87ad-1895-4a58-ed47-6f175185357e"
      },
      "execution_count": 14,
      "outputs": [
        {
          "output_type": "stream",
          "name": "stdout",
          "text": [
            "[1, 8, 27, 64, 125]\n"
          ]
        }
      ]
    },
    {
      "cell_type": "code",
      "source": [
        "def uppercase_sentence(sentence):\n",
        "  \"\"\"Capitalizes each word in a sentence.\"\"\"\n",
        "  words = sentence.split()\n",
        "  uppercase_words = list(map(str.capitalize, words))\n",
        "  return \" \".join(uppercase_words)\n",
        "\n",
        "my_sentence = \"this is a test sentence\"\n",
        "new_sentence = uppercase_sentence(my_sentence)\n",
        "print(new_sentence)"
      ],
      "metadata": {
        "colab": {
          "base_uri": "https://localhost:8080/"
        },
        "id": "QDPWDUI15DXa",
        "outputId": "a5081441-83b4-4dd0-f708-d90cf21cfe08"
      },
      "execution_count": 16,
      "outputs": [
        {
          "output_type": "stream",
          "name": "stdout",
          "text": [
            "This Is A Test Sentence\n"
          ]
        }
      ]
    }
  ]
}