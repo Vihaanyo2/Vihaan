{
  "nbformat": 4,
  "nbformat_minor": 0,
  "metadata": {
    "colab": {
      "provenance": []
    },
    "kernelspec": {
      "name": "python3",
      "display_name": "Python 3"
    },
    "language_info": {
      "name": "python"
    }
  },
  "cells": [
    {
      "cell_type": "code",
      "execution_count": 1,
      "metadata": {
        "colab": {
          "base_uri": "https://localhost:8080/"
        },
        "id": "mCapGtWc9jil",
        "outputId": "4372153c-f2f2-4f03-b087-b28861be5b4c"
      },
      "outputs": [
        {
          "output_type": "stream",
          "name": "stdout",
          "text": [
            "The sum of the numbers in the list is: 150\n"
          ]
        }
      ],
      "source": [
        "from functools import reduce\n",
        "\n",
        "numbers = [10, 20, 30, 40, 50]\n",
        "total_sum = reduce(lambda x, y: x + y, numbers)\n",
        "\n",
        "print(f\"The sum of the numbers in the list is: {total_sum}\")"
      ]
    },
    {
      "cell_type": "code",
      "source": [
        "from functools import reduce\n",
        "\n",
        "numbers = [12, 45, 78, 34, 89, 23]\n",
        "maximum_number = reduce(lambda a, b: a if a > b else b, numbers)\n",
        "\n",
        "print(maximum_number)"
      ],
      "metadata": {
        "colab": {
          "base_uri": "https://localhost:8080/"
        },
        "id": "BIsYlW2S9qea",
        "outputId": "72125927-3afe-4447-9264-d176f46c8e95"
      },
      "execution_count": 2,
      "outputs": [
        {
          "output_type": "stream",
          "name": "stdout",
          "text": [
            "89\n"
          ]
        }
      ]
    },
    {
      "cell_type": "code",
      "source": [
        "from functools import reduce\n",
        "numbers = [2, 3, 5, 7]\n",
        "product = reduce(lambda x, y: x * y, numbers)\n",
        "print(f\"The product of all elements in {numbers} is: {product}\")"
      ],
      "metadata": {
        "colab": {
          "base_uri": "https://localhost:8080/"
        },
        "id": "ttBYZmOk90nQ",
        "outputId": "86d43ad2-3cb5-4dfd-d548-71a5cba09763"
      },
      "execution_count": 3,
      "outputs": [
        {
          "output_type": "stream",
          "name": "stdout",
          "text": [
            "The product of all elements in [2, 3, 5, 7] is: 210\n"
          ]
        }
      ]
    },
    {
      "cell_type": "code",
      "source": [
        "from functools import reduce\n",
        "string_list = [\"Hello\", \" \", \"World\", \"!\"]\n",
        "concatenated_string = reduce(lambda x, y: x + y, string_list)\n",
        "\n",
        "print(concatenated_string)"
      ],
      "metadata": {
        "colab": {
          "base_uri": "https://localhost:8080/"
        },
        "id": "WAvNYj0Z9_UJ",
        "outputId": "6cc6f83d-08b6-4371-c60d-18eebf2c62ba"
      },
      "execution_count": 4,
      "outputs": [
        {
          "output_type": "stream",
          "name": "stdout",
          "text": [
            "Hello World!\n"
          ]
        }
      ]
    },
    {
      "cell_type": "code",
      "source": [
        "from functools import reduce\n",
        "import math # For math.gcd, which implements the Euclidean algorithm efficiently\n",
        "\n",
        "def find_gcd_of_list(numbers):\n",
        "    \"\"\"\n",
        "    Finds the greatest common divisor (GCD) of a list of numbers using reduce().\n",
        "    \"\"\"\n",
        "    if not numbers:\n",
        "        raise ValueError(\"The list cannot be empty.\")\n",
        "    gcd_result = reduce(math.gcd, numbers)\n",
        "    return gcd_result\n",
        "\n",
        "data = [3, 6, 9, 12, 15]\n",
        "gcd_of_list = find_gcd_of_list(data)\n",
        "print(f\"The GCD of {data} is: {gcd_of_list}\")"
      ],
      "metadata": {
        "colab": {
          "base_uri": "https://localhost:8080/"
        },
        "id": "IFb2vYj--ODQ",
        "outputId": "cf095ae1-a189-4c17-e29d-3865c874a295"
      },
      "execution_count": 6,
      "outputs": [
        {
          "output_type": "stream",
          "name": "stdout",
          "text": [
            "The GCD of [3, 6, 9, 12, 15] is: 3\n"
          ]
        }
      ]
    },
    {
      "cell_type": "code",
      "source": [
        "from functools import reduce\n",
        "\n",
        "numbers = [1, 2, 3, 4, 5]\n",
        "factorial_of_5 = reduce(lambda x, y: x * y, numbers)\n",
        "print(f\"The factorial of 5 is: {factorial_of_5}\")"
      ],
      "metadata": {
        "colab": {
          "base_uri": "https://localhost:8080/"
        },
        "id": "GUySUMJA-mqY",
        "outputId": "afb6aee8-2f8c-49a0-e4be-40d70085dfca"
      },
      "execution_count": 7,
      "outputs": [
        {
          "output_type": "stream",
          "name": "stdout",
          "text": [
            "The factorial of 5 is: 120\n"
          ]
        }
      ]
    },
    {
      "cell_type": "code",
      "source": [
        "from functools import reduce\n",
        "\n",
        "numbers = [1, 2, 3, 4, 5, 6, 8, 10]\n",
        "even_numbers = list(filter(lambda x: x % 2 == 0, numbers))\n",
        "product = reduce(lambda x, y: x * y, even_numbers)\n",
        "\n",
        "print(f\"The product of all even numbers is: {product}\")"
      ],
      "metadata": {
        "colab": {
          "base_uri": "https://localhost:8080/"
        },
        "id": "5U0spH-0-wIp",
        "outputId": "99614ba4-eb35-4eae-8e58-182a795a8238"
      },
      "execution_count": 8,
      "outputs": [
        {
          "output_type": "stream",
          "name": "stdout",
          "text": [
            "The product of all even numbers is: 3840\n"
          ]
        }
      ]
    },
    {
      "cell_type": "code",
      "source": [
        "from functools import reduce\n",
        "\n",
        "def sum_of_squares_reduce(numbers):\n",
        "  return reduce(lambda acc, x: acc + x**2, numbers, 0)\n",
        "  data = [2, 4, 6, 8]\n",
        "result = sum_of_squares_reduce(data)\n",
        "print(f\"The sum of squares of {data} is: {result}\")"
      ],
      "metadata": {
        "colab": {
          "base_uri": "https://localhost:8080/"
        },
        "id": "3R2-qeyo_JQI",
        "outputId": "32ff7ce3-ece1-4193-dec3-c34a28ed6b3d"
      },
      "execution_count": 9,
      "outputs": [
        {
          "output_type": "stream",
          "name": "stdout",
          "text": [
            "The sum of squares of [3, 6, 9, 12, 15] is: 495\n"
          ]
        }
      ]
    },
    {
      "cell_type": "code",
      "source": [
        "from functools import reduce\n",
        "\n",
        "words = [\"apple\", \"banana\", \"cherry\", \"avocado\"]\n",
        "\n",
        "longest_word = reduce(lambda a, b: a if len(a) >= len(b) else b, words)\n",
        "\n",
        "print(longest_word)"
      ],
      "metadata": {
        "colab": {
          "base_uri": "https://localhost:8080/"
        },
        "id": "DFfim-j6_ZO5",
        "outputId": "ef8cdb08-e4f8-4784-ab47-9e911aa5ac69"
      },
      "execution_count": 10,
      "outputs": [
        {
          "output_type": "stream",
          "name": "stdout",
          "text": [
            "avocado\n"
          ]
        }
      ]
    },
    {
      "cell_type": "code",
      "source": [
        "from functools import reduce\n",
        "\n",
        "numbers = [100, 50, 25, 5]\n",
        "result = reduce(lambda x, y: x / y, numbers)\n",
        "print(result)"
      ],
      "metadata": {
        "colab": {
          "base_uri": "https://localhost:8080/"
        },
        "id": "7nwX63jt_qow",
        "outputId": "5f6a2afb-7625-4899-eb91-2941e1b608f7"
      },
      "execution_count": 11,
      "outputs": [
        {
          "output_type": "stream",
          "name": "stdout",
          "text": [
            "0.016\n"
          ]
        }
      ]
    }
  ]
}