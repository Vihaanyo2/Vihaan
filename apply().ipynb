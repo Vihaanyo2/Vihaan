{
  "nbformat": 4,
  "nbformat_minor": 0,
  "metadata": {
    "colab": {
      "provenance": []
    },
    "kernelspec": {
      "name": "python3",
      "display_name": "Python 3"
    },
    "language_info": {
      "name": "python"
    }
  },
  "cells": [
    {
      "cell_type": "code",
      "execution_count": 1,
      "metadata": {
        "colab": {
          "base_uri": "https://localhost:8080/"
        },
        "id": "HCuCaXYsOQHr",
        "outputId": "006948e6-0083-4ca6-89ec-d9c02155a6ba"
      },
      "outputs": [
        {
          "output_type": "stream",
          "name": "stdout",
          "text": [
            "Original DataFrame:\n",
            "  Employee  Salary\n",
            "0    Alice   60000\n",
            "1      Bob   45000\n",
            "2  Charlie   70000\n",
            "------------------------------\n",
            "DataFrame with 'Updated_Salary' column:\n",
            "  Employee  Salary  Updated_Salary\n",
            "0    Alice   60000         66000.0\n",
            "1      Bob   45000         49500.0\n",
            "2  Charlie   70000         77000.0\n"
          ]
        }
      ],
      "source": [
        "import pandas as pd\n",
        "data = {'Employee': ['Alice', 'Bob', 'Charlie'],\n",
        "        'Salary': [60000, 45000, 70000]}\n",
        "df = pd.DataFrame(data)\n",
        "print(\"Original DataFrame:\")\n",
        "print(df)\n",
        "print(\"-\" * 30)\n",
        "df['Updated_Salary'] = df['Salary'].apply(lambda x: x * 1.10)\n",
        "print(\"DataFrame with 'Updated_Salary' column:\")\n",
        "print(df)"
      ]
    },
    {
      "cell_type": "code",
      "source": [
        "import pandas as pd\n",
        "data = {'Name': ['Alice', 'Bob', 'Charlie', 'David', 'Eva'],\n",
        "        'Years_of_Experience': [2, 7, 15, 4, 10]}\n",
        "df = pd.DataFrame(data)\n",
        "def classify_experience(years):\n",
        "    if years <= 3:\n",
        "        return 'Junior'\n",
        "    elif years <= 9:\n",
        "        return 'Mid-Level'\n",
        "    else:\n",
        "        return 'Senior'\n",
        "df['Experience_Level'] = df['Years_of_Experience'].apply(classify_experience)\n",
        "print(df)\n"
      ],
      "metadata": {
        "colab": {
          "base_uri": "https://localhost:8080/"
        },
        "id": "X8c_OLsoOgWN",
        "outputId": "eb70bd4f-efb8-4299-ef9f-453f08e1d7f1"
      },
      "execution_count": 2,
      "outputs": [
        {
          "output_type": "stream",
          "name": "stdout",
          "text": [
            "      Name  Years_of_Experience Experience_Level\n",
            "0    Alice                    2           Junior\n",
            "1      Bob                    7        Mid-Level\n",
            "2  Charlie                   15           Senior\n",
            "3    David                    4        Mid-Level\n",
            "4      Eva                   10           Senior\n"
          ]
        }
      ]
    },
    {
      "cell_type": "code",
      "source": [
        "import pandas as pd\n",
        "data = {'Name': ['Alice', 'Bob', 'Charlie', 'David', 'Eve'],\n",
        "        'Salary': [55000, 70000, 62000, 48000, 90000]}\n",
        "df = pd.DataFrame(data)\n",
        "def is_high_earner(salary):\n",
        "    if salary > 60000:\n",
        "        return 'Yes'\n",
        "    else:\n",
        "        return 'No'\n",
        "df['High Earners'] = df['Salary'].apply(is_high_earner)\n",
        "\n",
        "print(df)"
      ],
      "metadata": {
        "colab": {
          "base_uri": "https://localhost:8080/"
        },
        "id": "efbZmWK6V0Lv",
        "outputId": "61ef7ef8-1ff0-4436-b577-efec7ba88984"
      },
      "execution_count": 3,
      "outputs": [
        {
          "output_type": "stream",
          "name": "stdout",
          "text": [
            "      Name  Salary High Earners\n",
            "0    Alice   55000           No\n",
            "1      Bob   70000          Yes\n",
            "2  Charlie   62000          Yes\n",
            "3    David   48000           No\n",
            "4      Eve   90000          Yes\n"
          ]
        }
      ]
    },
    {
      "cell_type": "code",
      "source": [
        "def calculate_area(length, width):\n",
        "    \"\"\"\n",
        "    This function calculates the area of a rectangle.\n",
        "    \"\"\"\n",
        "    area = length * width\n",
        "    return area\n",
        "\n",
        "rectangle_length = 10\n",
        "rectangle_width = 5\n",
        "result_area = calculate_area(rectangle_length, rectangle_width)\n",
        "\n",
        "print(f\"The area of the rectangle is: {result_area}\")"
      ],
      "metadata": {
        "colab": {
          "base_uri": "https://localhost:8080/"
        },
        "id": "B9K8RLJaWFXH",
        "outputId": "c5ca44bc-3efa-434d-d2f2-b04659d968d0"
      },
      "execution_count": 9,
      "outputs": [
        {
          "output_type": "stream",
          "name": "stdout",
          "text": [
            "The area of the rectangle is: 50\n"
          ]
        }
      ]
    },
    {
      "cell_type": "code",
      "source": [
        "import pandas as pd\n",
        "data = {'Name': ['Alice', 'Bob', 'Charlie'],\n",
        "        'Department': ['HR', 'IT', 'Finance']}\n",
        "df = pd.DataFrame(data)\n",
        "def create_employee_tag(row):\n",
        "    return f\"{row['Name']} ({row['Department']})\"\n",
        "    df['Employee_Tag'] = df.apply(create_employee_tag, axis=1)\n",
        "print(df)"
      ],
      "metadata": {
        "colab": {
          "base_uri": "https://localhost:8080/"
        },
        "id": "G5AfSBYyWYHf",
        "outputId": "b23580d1-f944-4347-f914-c78c5360c38a"
      },
      "execution_count": 10,
      "outputs": [
        {
          "output_type": "stream",
          "name": "stdout",
          "text": [
            "      Name Department\n",
            "0    Alice         HR\n",
            "1      Bob         IT\n",
            "2  Charlie    Finance\n"
          ]
        }
      ]
    },
    {
      "cell_type": "code",
      "source": [
        "import pandas as pd\n",
        "import numpy as np\n",
        "data = {'Name': ['Alice', 'Bob', 'Charlie', 'David'],\n",
        "        'Salary': [60000, 75000, 90000, 50000],\n",
        "        'Bonus': [6000, 7500, 13500, 0]}\n",
        "df = pd.DataFrame(data)\n",
        "\n",
        "print(\"Original DataFrame:\")\n",
        "print(df)"
      ],
      "metadata": {
        "colab": {
          "base_uri": "https://localhost:8080/"
        },
        "id": "8ai_aQwrWtE5",
        "outputId": "1a8d68a9-6eb2-44ef-b7bb-fa3de7bc5247"
      },
      "execution_count": 11,
      "outputs": [
        {
          "output_type": "stream",
          "name": "stdout",
          "text": [
            "Original DataFrame:\n",
            "      Name  Salary  Bonus\n",
            "0    Alice   60000   6000\n",
            "1      Bob   75000   7500\n",
            "2  Charlie   90000  13500\n",
            "3    David   50000      0\n"
          ]
        }
      ]
    },
    {
      "cell_type": "code",
      "source": [
        "import pandas as pd\n",
        "data = {'Name': ['Alice', 'Bob', 'Charlie'],\n",
        "        'Salary': [50000, 75000, 120000]}\n",
        "df = pd.DataFrame(data)\n",
        "\n",
        "print(\"Original DataFrame:\")\n",
        "print(df)\n",
        "print(\"-\" * 30)\n",
        "df['Formatted_Salary'] = df['Salary'].apply(lambda x: f'₹{x:,.0f}')\n",
        "print(df)"
      ],
      "metadata": {
        "colab": {
          "base_uri": "https://localhost:8080/"
        },
        "id": "WKXpWWOLW7jZ",
        "outputId": "fd3200d8-5c6a-400b-a553-a32994403430"
      },
      "execution_count": 12,
      "outputs": [
        {
          "output_type": "stream",
          "name": "stdout",
          "text": [
            "Original DataFrame:\n",
            "      Name  Salary\n",
            "0    Alice   50000\n",
            "1      Bob   75000\n",
            "2  Charlie  120000\n",
            "------------------------------\n",
            "      Name  Salary Formatted_Salary\n",
            "0    Alice   50000          ₹50,000\n",
            "1      Bob   75000          ₹75,000\n",
            "2  Charlie  120000         ₹120,000\n"
          ]
        }
      ]
    },
    {
      "cell_type": "code",
      "source": [
        "import pandas as pd\n",
        "data = {\n",
        "    'Employee': ['Alice', 'Bob', 'Charlie', 'David'],\n",
        "    'Department': ['IT', 'Sales', 'IT', 'Marketing'],\n",
        "    'Salary': [70000, 60000, 75000, 65000]\n",
        "}\n",
        "df = pd.DataFrame(data)\n",
        "print(\"Original DataFrame:\")\n",
        "print(df)"
      ],
      "metadata": {
        "colab": {
          "base_uri": "https://localhost:8080/"
        },
        "id": "lgJpKi8mXQSW",
        "outputId": "dcab56bf-cd88-4db8-e92d-5869ae447615"
      },
      "execution_count": 13,
      "outputs": [
        {
          "output_type": "stream",
          "name": "stdout",
          "text": [
            "Original DataFrame:\n",
            "  Employee Department  Salary\n",
            "0    Alice         IT   70000\n",
            "1      Bob      Sales   60000\n",
            "2  Charlie         IT   75000\n",
            "3    David  Marketing   65000\n"
          ]
        }
      ]
    }
  ]
}