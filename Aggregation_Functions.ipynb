{
  "nbformat": 4,
  "nbformat_minor": 0,
  "metadata": {
    "colab": {
      "provenance": []
    },
    "kernelspec": {
      "name": "python3",
      "display_name": "Python 3"
    },
    "language_info": {
      "name": "python"
    }
  },
  "cells": [
    {
      "cell_type": "code",
      "execution_count": 1,
      "metadata": {
        "colab": {
          "base_uri": "https://localhost:8080/"
        },
        "id": "PRHR7Q_PzH-R",
        "outputId": "05bd7337-061a-4ca3-c3b6-6cdf83559ca8"
      },
      "outputs": [
        {
          "output_type": "stream",
          "name": "stdout",
          "text": [
            "      Name Department  Salary\n",
            "0    Alice         HR   50000\n",
            "1      Bob         IT   60000\n",
            "2  Charlie    Finance   70000\n",
            "3    David         IT   55000\n",
            "4      Eve         HR   80000\n"
          ]
        }
      ],
      "source": [
        "import pandas as pd\n",
        "\n",
        "df = pd.read_csv('aggregation_data.csv')\n",
        "\n",
        "print(df.head())"
      ]
    },
    {
      "cell_type": "code",
      "source": [
        "import pandas as pd\n",
        "\n",
        "data = {\n",
        "    'Department': ['HR', 'Engineering', 'Marketing', 'HR', 'Engineering', 'Marketing', 'Engineering'],\n",
        "    'Salary': [60000, 85000, 70000, 62000, 90000, 75000, 92000]\n",
        "}\n",
        "df = pd.DataFrame(data)\n",
        "\n",
        "total_salary = df['Salary'].sum()\n",
        "print(f\"Total salary paid across all departments: {total_salary}\")\n",
        "\n",
        "average_salary = df['Salary'].mean()\n",
        "print(f\"Average salary in the dataset: {average_salary}\")\n",
        "\n",
        "min_salary = df['Salary'].min()\n",
        "print(f\"Minimum salary: {min_salary}\")\n",
        "\n",
        "max_salary = df['Salary'].max()\n",
        "print(f\"Maximum salary: {max_salary}\")\n",
        "\n",
        "num_employees = df['Salary'].count() # or len(df)\n",
        "print(f\"Total number of employees: {num_employees}\")"
      ],
      "metadata": {
        "colab": {
          "base_uri": "https://localhost:8080/"
        },
        "id": "lpXUsc2xziNQ",
        "outputId": "a0c09f8a-2248-400d-da82-f7c910e979f3"
      },
      "execution_count": 2,
      "outputs": [
        {
          "output_type": "stream",
          "name": "stdout",
          "text": [
            "Total salary paid across all departments: 534000\n",
            "Average salary in the dataset: 76285.71428571429\n",
            "Minimum salary: 60000\n",
            "Maximum salary: 92000\n",
            "Total number of employees: 7\n"
          ]
        }
      ]
    },
    {
      "cell_type": "code",
      "source": [
        "import pandas as pd\n",
        "\n",
        "data = {'Department': ['HR', 'IT', 'HR', 'IT', 'Finance', 'Finance'],\n",
        "        'Salary': [60000, 75000, 65000, 80000, 70000, 72000]}\n",
        "df = pd.DataFrame(data)\n",
        "\n",
        "\n",
        "department_summary = df.groupby('Department')['Salary'].agg(['sum', 'mean', 'count'])\n",
        "\n",
        "print(department_summary)"
      ],
      "metadata": {
        "colab": {
          "base_uri": "https://localhost:8080/"
        },
        "id": "vARBb2Urz1un",
        "outputId": "e1f27daa-cda5-498d-b3c0-15332114821d"
      },
      "execution_count": 3,
      "outputs": [
        {
          "output_type": "stream",
          "name": "stdout",
          "text": [
            "               sum     mean  count\n",
            "Department                        \n",
            "Finance     142000  71000.0      2\n",
            "HR          125000  62500.0      2\n",
            "IT          155000  77500.0      2\n"
          ]
        }
      ]
    },
    {
      "cell_type": "code",
      "source": [
        "import pandas as pd\n",
        "\n",
        "\n",
        "data = {'Department': ['HR', 'IT', 'HR', 'Finance', 'IT', 'Finance', 'HR'],\n",
        "        'Salary': [50000, 70000, 55000, 60000, 75000, 62000, 52000]}\n",
        "df = pd.DataFrame(data)\n",
        "\n",
        "result = df.groupby('Department')['Salary'].agg(['sum', 'mean', 'min', 'max', 'count'])\n",
        "\n",
        "print(result)"
      ],
      "metadata": {
        "colab": {
          "base_uri": "https://localhost:8080/"
        },
        "id": "C7w7WvgNz_Qm",
        "outputId": "49cedf9b-21e8-4ed9-ad6f-b705ed096711"
      },
      "execution_count": 4,
      "outputs": [
        {
          "output_type": "stream",
          "name": "stdout",
          "text": [
            "               sum          mean    min    max  count\n",
            "Department                                           \n",
            "Finance     122000  61000.000000  60000  62000      2\n",
            "HR          157000  52333.333333  50000  55000      3\n",
            "IT          145000  72500.000000  70000  75000      2\n"
          ]
        }
      ]
    },
    {
      "cell_type": "code",
      "source": [
        "import pandas as pd\n",
        "\n",
        "data = {\n",
        "    'Department': ['Sales', 'Marketing', 'Sales', 'IT', 'Marketing', 'IT', 'Sales', 'HR', 'IT', 'HR'],\n",
        "    'Salary': [50000, 60000, 55000, 70000, 62000, 75000, 53000, 48000, 80000, 52000]\n",
        "}\n",
        "\n",
        "df = pd.DataFrame(data)\n",
        "\n",
        "average_salaries_by_department = df.groupby('Department')['Salary'].mean()\n",
        "\n",
        "highest_average_salary_department = average_salaries_by_department.idxmax()\n",
        "highest_average_salary_value = average_salaries_by_department.max()\n",
        "\n",
        "print(\"Average salary by department:\")\n",
        "print(average_salaries_by_department)\n",
        "print(f\"\\nDepartment with the highest average salary: {highest_average_salary_department}\")\n",
        "print(f\"Highest average salary: {highest_average_salary_value}\")"
      ],
      "metadata": {
        "colab": {
          "base_uri": "https://localhost:8080/"
        },
        "id": "3Yrb728n0kp2",
        "outputId": "6c7b1df0-47eb-4ba6-e574-27eab172455a"
      },
      "execution_count": 5,
      "outputs": [
        {
          "output_type": "stream",
          "name": "stdout",
          "text": [
            "Average salary by department:\n",
            "Department\n",
            "HR           50000.000000\n",
            "IT           75000.000000\n",
            "Marketing    61000.000000\n",
            "Sales        52666.666667\n",
            "Name: Salary, dtype: float64\n",
            "\n",
            "Department with the highest average salary: IT\n",
            "Highest average salary: 75000.0\n"
          ]
        }
      ]
    },
    {
      "cell_type": "code",
      "source": [
        "import pandas as pd\n",
        "import numpy as np\n",
        "\n",
        "data = {'Name': ['Alice', 'Bob', 'Charlie', 'David', 'Eva'],\n",
        "        'salary': [75000, 60000, 45000, 55000, 80000]}\n",
        "df = pd.DataFrame(data)\n",
        "\n",
        "conditions = [\n",
        "    (df['salary'] >= 70000),\n",
        "    (df['salary'] >= 55000) & (df['salary'] < 70000),\n",
        "    (df['salary'] < 55000)\n",
        "]\n",
        "choices = ['High', 'Medium', 'Low']\n",
        "\n",
        "df['Salary_Level'] = np.select(conditions, choices, default='Unknown')\n",
        "\n",
        "print(df)"
      ],
      "metadata": {
        "colab": {
          "base_uri": "https://localhost:8080/"
        },
        "id": "KWP4PwfO0roO",
        "outputId": "aae6cb07-ac8c-423f-c063-2ab1f73fbdf5"
      },
      "execution_count": 6,
      "outputs": [
        {
          "output_type": "stream",
          "name": "stdout",
          "text": [
            "      Name  salary Salary_Level\n",
            "0    Alice   75000         High\n",
            "1      Bob   60000       Medium\n",
            "2  Charlie   45000          Low\n",
            "3    David   55000       Medium\n",
            "4      Eva   80000         High\n"
          ]
        }
      ]
    },
    {
      "cell_type": "code",
      "source": [
        "import pandas as pd\n",
        "\n",
        "data = {\n",
        "    'Employee_ID': [1, 2, 3, 4, 5, 6, 7, 8, 9, 10],\n",
        "    'Salary': [45000, 70000, 30000, 90000, 55000, 120000, 40000, 80000, 60000, 110000]\n",
        "}\n",
        "df = pd.DataFrame(data)\n",
        "\n",
        "bins = [0, 49999, 99999, float('inf')]\n",
        "labels = ['Entry-level', 'Mid-level', 'Senior-level']\n",
        "df['Salary Level'] = pd.cut(df['Salary'], bins=bins, labels=labels, right=True)\n",
        "\n",
        "salary_level_agg = df.groupby('Salary Level').agg(\n",
        "    Employee_Count=('Employee_ID', 'count'),  # Count employees in each level\n",
        "    Average_Salary=('Salary', 'mean')         # Calculate average salary in each level\n",
        ").reset_index()\n",
        "\n",
        "print(salary_level_agg)"
      ],
      "metadata": {
        "colab": {
          "base_uri": "https://localhost:8080/"
        },
        "id": "yQ1qaKOA09q-",
        "outputId": "63be4189-e2a9-436f-99bf-59b0fba172bf"
      },
      "execution_count": 7,
      "outputs": [
        {
          "output_type": "stream",
          "name": "stdout",
          "text": [
            "   Salary Level  Employee_Count  Average_Salary\n",
            "0   Entry-level               3    38333.333333\n",
            "1     Mid-level               5    71000.000000\n",
            "2  Senior-level               2   115000.000000\n"
          ]
        },
        {
          "output_type": "stream",
          "name": "stderr",
          "text": [
            "/tmp/ipython-input-1468876445.py:13: FutureWarning: The default of observed=False is deprecated and will be changed to True in a future version of pandas. Pass observed=False to retain current behavior or observed=True to adopt the future default and silence this warning.\n",
            "  salary_level_agg = df.groupby('Salary Level').agg(\n"
          ]
        }
      ]
    },
    {
      "cell_type": "code",
      "source": [
        "import pandas as pd\n",
        "\n",
        "data = {'Department': ['HR', 'IT', 'HR', 'IT', 'Finance', 'HR'],\n",
        "        'Salary': [50000, 70000, 60000, 80000, 75000, 55000],\n",
        "        'Years_Experience': [5, 8, 7, 10, 9, 6]}\n",
        "df = pd.DataFrame(data)\n",
        "\n",
        "department_aggregates = df.groupby('Department').agg(\n",
        "    Total_Salary=('Salary', 'sum'),\n",
        "    Average_Salary=('Salary', 'mean'),\n",
        "    Min_Salary=('Salary', 'min'),\n",
        "    Max_Salary=('Salary', 'max'),\n",
        "    Employee_Count=('Department', 'count'),\n",
        "    Average_Years_Experience=('Years_Experience', 'mean')\n",
        ")\n",
        "\n",
        "department_aggregates.to_csv('department_aggregates.csv', index=False)\n",
        "\n",
        "print(\"Aggregated report saved to 'department_aggregates.csv'\")"
      ],
      "metadata": {
        "colab": {
          "base_uri": "https://localhost:8080/"
        },
        "id": "S2JFrdJs1jpf",
        "outputId": "c38d797b-3914-4285-a2e5-52d585a38c08"
      },
      "execution_count": 9,
      "outputs": [
        {
          "output_type": "stream",
          "name": "stdout",
          "text": [
            "Aggregated report saved to 'department_aggregates.csv'\n"
          ]
        }
      ]
    }
  ]
}