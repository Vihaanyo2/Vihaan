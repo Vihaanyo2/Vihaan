{
  "nbformat": 4,
  "nbformat_minor": 0,
  "metadata": {
    "colab": {
      "provenance": []
    },
    "kernelspec": {
      "name": "python3",
      "display_name": "Python 3"
    },
    "language_info": {
      "name": "python"
    }
  },
  "cells": [
    {
      "cell_type": "code",
      "execution_count": 5,
      "metadata": {
        "colab": {
          "base_uri": "https://localhost:8080/"
        },
        "id": "FdDrhU-nzOHE",
        "outputId": "d45590a9-bf6a-4493-991b-86c654ef5716"
      },
      "outputs": [
        {
          "output_type": "stream",
          "name": "stdout",
          "text": [
            "Original list: [1, 2, 3, 4, 5, 6, 7, 8, 9, 10]\n",
            "Even numbers: [2, 4, 6, 8, 10]\n"
          ]
        }
      ],
      "source": [
        "numbers = [1, 2, 3, 4, 5, 6, 7, 8, 9, 10]\n",
        "\n",
        "def is_even(number):\n",
        "  return number % 2 == 0\n",
        "\n",
        "even_numbers_iterator = filter(is_even, numbers)\n",
        "even_numbers = list(even_numbers_iterator)\n",
        "\n",
        "print(f\"Original list: {numbers}\")\n",
        "print(f\"Even numbers: {even_numbers}\")"
      ]
    },
    {
      "cell_type": "code",
      "source": [
        "numbers = [3, 6, 2, 8, 5, 10]\n",
        "filtered_numbers_iterator = filter(lambda x: x > 5, numbers)\n",
        "result = list(filtered_numbers_iterator)\n",
        "print(result)"
      ],
      "metadata": {
        "colab": {
          "base_uri": "https://localhost:8080/"
        },
        "id": "k2CBUBMmz9LL",
        "outputId": "b8d94415-0974-4d11-928c-798b953ea243"
      },
      "execution_count": 6,
      "outputs": [
        {
          "output_type": "stream",
          "name": "stdout",
          "text": [
            "[6, 8, 10]\n"
          ]
        }
      ]
    },
    {
      "cell_type": "code",
      "source": [
        "words = [\"apple\", \"banana\", \"cherry\", \"avocado\", \"grape\"]\n",
        "filtered_words = list(filter(lambda word: word.startswith(\"a\"), words))\n",
        "print(filtered_words)"
      ],
      "metadata": {
        "colab": {
          "base_uri": "https://localhost:8080/"
        },
        "id": "HJ-f4SF30TIL",
        "outputId": "8044aa62-5006-4cb2-8d1e-15a2a08320e4"
      },
      "execution_count": 7,
      "outputs": [
        {
          "output_type": "stream",
          "name": "stdout",
          "text": [
            "['apple', 'avocado']\n"
          ]
        }
      ]
    },
    {
      "cell_type": "code",
      "source": [
        "numbers = [-5, -2, 0, 3, 7, -1]\n",
        "positive_numbers_filter_object = filter(lambda x: x > 0, numbers)\n",
        "positive_numbers = list(positive_numbers_filter_object)\n",
        "\n",
        "print(positive_numbers)"
      ],
      "metadata": {
        "colab": {
          "base_uri": "https://localhost:8080/"
        },
        "id": "kpjWWFlb0X17",
        "outputId": "3186e3c1-ef3a-4388-eae4-189926b2ad31"
      },
      "execution_count": 8,
      "outputs": [
        {
          "output_type": "stream",
          "name": "stdout",
          "text": [
            "[3, 7]\n"
          ]
        }
      ]
    },
    {
      "cell_type": "code",
      "source": [
        "numbers = [10, 15, 20, 25, 30, 35]\n",
        "odd_numbers_iterator = filter(lambda x: x % 2 != 0, numbers)\n",
        "odd_numbers = list(odd_numbers_iterator)\n",
        "\n",
        "print(odd_numbers)"
      ],
      "metadata": {
        "colab": {
          "base_uri": "https://localhost:8080/"
        },
        "id": "KlIri58k0jiE",
        "outputId": "425094a0-1205-44f8-de2d-653588293bcb"
      },
      "execution_count": 9,
      "outputs": [
        {
          "output_type": "stream",
          "name": "stdout",
          "text": [
            "[15, 25, 35]\n"
          ]
        }
      ]
    },
    {
      "cell_type": "code",
      "source": [
        "strings = [\"Python\", \"\", \"Java\", \" \", \"C++\", \"\"]\n",
        "filtered_strings = list(filter(None, strings))\n",
        "print(filtered_strings)"
      ],
      "metadata": {
        "colab": {
          "base_uri": "https://localhost:8080/"
        },
        "id": "Rmoi4z5n0xrT",
        "outputId": "a92c4a2f-dfef-47d1-c7ff-6ae362b318b4"
      },
      "execution_count": 10,
      "outputs": [
        {
          "output_type": "stream",
          "name": "stdout",
          "text": [
            "['Python', 'Java', ' ', 'C++']\n"
          ]
        }
      ]
    },
    {
      "cell_type": "code",
      "source": [
        "def get_divisible_by_3(numbers):\n",
        "  return list(filter(lambda x: x % 3 == 0, numbers))\n",
        "\n",
        "my_list = [1, 2, 3, 4, 5, 6, 7, 9, 12, 15]\n",
        "result = get_divisible_by_3(my_list)\n",
        "print(result)"
      ],
      "metadata": {
        "colab": {
          "base_uri": "https://localhost:8080/"
        },
        "id": "S2ogK4kQ07dS",
        "outputId": "66249733-c7e6-492e-af76-1dde6beedcfd"
      },
      "execution_count": 12,
      "outputs": [
        {
          "output_type": "stream",
          "name": "stdout",
          "text": [
            "[3, 6, 9, 12, 15]\n"
          ]
        }
      ]
    },
    {
      "cell_type": "code",
      "source": [
        "words = [\"short\", \"longer\", \"big\", \"small\", \"elephant\"]\n",
        "long_words = list(filter(lambda word: len(word) > 5, words))\n",
        "print(long_words)"
      ],
      "metadata": {
        "colab": {
          "base_uri": "https://localhost:8080/"
        },
        "id": "JsFVCSqy1Pg7",
        "outputId": "0b1a9158-f082-4793-e973-a049ddf4a47e"
      },
      "execution_count": 13,
      "outputs": [
        {
          "output_type": "stream",
          "name": "stdout",
          "text": [
            "['longer', 'elephant']\n"
          ]
        }
      ]
    },
    {
      "cell_type": "code",
      "source": [
        "numbers = [-3, -1, 2, 4, -6, 8]\n",
        "positive_numbers = list(filter(lambda x: x >= 0, numbers))\n",
        "\n",
        "print(positive_numbers)"
      ],
      "metadata": {
        "colab": {
          "base_uri": "https://localhost:8080/"
        },
        "id": "3qdp5tpa1aer",
        "outputId": "ec1394ef-955c-4395-e6ce-f4ce69f7a8be"
      },
      "execution_count": 14,
      "outputs": [
        {
          "output_type": "stream",
          "name": "stdout",
          "text": [
            "[2, 4, 8]\n"
          ]
        }
      ]
    },
    {
      "cell_type": "code",
      "source": [
        "names = [\"Alice\", \"Bob\", \"Anna\", \"Charlie\"]\n",
        "filtered_names_iterator = filter(lambda name: name.startswith(\"A\"), names)\n",
        "names_starting_with_a = list(filtered_names_iterator)\n",
        "print(names_starting_with_a)"
      ],
      "metadata": {
        "colab": {
          "base_uri": "https://localhost:8080/"
        },
        "id": "di5oAD0B1l_K",
        "outputId": "b1edd2ef-5a00-4fcf-b717-80dd6f997830"
      },
      "execution_count": 19,
      "outputs": [
        {
          "output_type": "stream",
          "name": "stdout",
          "text": [
            "['Alice', 'Anna']\n"
          ]
        }
      ]
    }
  ]
}