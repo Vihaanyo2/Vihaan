{
  "nbformat": 4,
  "nbformat_minor": 0,
  "metadata": {
    "colab": {
      "provenance": []
    },
    "kernelspec": {
      "name": "python3",
      "display_name": "Python 3"
    },
    "language_info": {
      "name": "python"
    }
  },
  "cells": [
    {
      "cell_type": "code",
      "execution_count": 6,
      "metadata": {
        "colab": {
          "base_uri": "https://localhost:8080/"
        },
        "id": "1bjy6ShJgpyB",
        "outputId": "c4c0c5b0-f790-41a9-c96a-d8d453f6dd25"
      },
      "outputs": [
        {
          "output_type": "stream",
          "name": "stdout",
          "text": [
            "    Name Gender  Maths  Science  Status\n",
            "0   Amit      M     85       90       1\n",
            "1  Priya      F     45       55       0\n",
            "2   Ravi      M     60       35       1\n",
            "3  Sneha      F     30       40       0\n",
            "4  Karan      M     95       88       1\n"
          ]
        }
      ],
      "source": [
        "import pandas as pd\n",
        "\n",
        "df = pd.read_csv('student_exam_data.csv')\n",
        "\n",
        "print(df)"
      ]
    },
    {
      "cell_type": "code",
      "source": [
        "import pandas as pd\n",
        "\n",
        "data = {'Student_ID': [101, 102, 103, 104],\n",
        "        'Status': [1, 0, 1, 1]}\n",
        "df = pd.DataFrame(data)\n",
        "\n",
        "print(\"Original DataFrame:\")\n",
        "print(df)\n",
        "print(\"-\" * 30)\n",
        "\n",
        "status_map = {1: \"Passed\", 0: \"Failed\"}\n",
        "\n",
        "df['Status'] = df['Status'].map(status_map)\n",
        "\n",
        "print(\"Modified DataFrame:\")\n",
        "print(df)"
      ],
      "metadata": {
        "colab": {
          "base_uri": "https://localhost:8080/"
        },
        "id": "kWpnf8jciXyE",
        "outputId": "5bcf1b7a-bb2f-4ac6-d165-cee1a6e72184"
      },
      "execution_count": 7,
      "outputs": [
        {
          "output_type": "stream",
          "name": "stdout",
          "text": [
            "Original DataFrame:\n",
            "   Student_ID  Status\n",
            "0         101       1\n",
            "1         102       0\n",
            "2         103       1\n",
            "3         104       1\n",
            "------------------------------\n",
            "Modified DataFrame:\n",
            "   Student_ID  Status\n",
            "0         101  Passed\n",
            "1         102  Failed\n",
            "2         103  Passed\n",
            "3         104  Passed\n"
          ]
        }
      ]
    },
    {
      "cell_type": "code",
      "source": [
        "import pandas as pd\n",
        "\n",
        "data = {'Name': ['Alice', 'Bob', 'Charlie', 'Diana'],\n",
        "        'Gender': ['F', 'M', 'M', 'F']}\n",
        "df = pd.DataFrame(data)\n",
        "\n",
        "print(\"Original DataFrame:\")\n",
        "print(df)\n",
        "\n",
        "gender_mapping = {'M': 'Male', 'F': 'Female'}\n",
        "\n",
        "df['Gender'] = df['Gender'].map(gender_mapping)\n",
        "\n",
        "print(\"\\nDataFrame after converting Gender codes:\")\n",
        "print(df)"
      ],
      "metadata": {
        "colab": {
          "base_uri": "https://localhost:8080/"
        },
        "id": "52j7-h1silya",
        "outputId": "80326328-36e9-4278-f5e7-bcaba59fc750"
      },
      "execution_count": 8,
      "outputs": [
        {
          "output_type": "stream",
          "name": "stdout",
          "text": [
            "Original DataFrame:\n",
            "      Name Gender\n",
            "0    Alice      F\n",
            "1      Bob      M\n",
            "2  Charlie      M\n",
            "3    Diana      F\n",
            "\n",
            "DataFrame after converting Gender codes:\n",
            "      Name  Gender\n",
            "0    Alice  Female\n",
            "1      Bob    Male\n",
            "2  Charlie    Male\n",
            "3    Diana  Female\n"
          ]
        }
      ]
    },
    {
      "cell_type": "code",
      "source": [
        "import pandas as pd\n",
        "\n",
        "data = {'Name': ['Alice', 'Bob', 'Charlie', 'David'],\n",
        "        'Maths': [75, 45, 60, 30]}\n",
        "df = pd.DataFrame(data)\n",
        "\n",
        "df['Math_Result'] = df['Maths'].map(lambda x: 'Pass' if x >= 50 else 'Fail')\n",
        "\n",
        "print(df)"
      ],
      "metadata": {
        "colab": {
          "base_uri": "https://localhost:8080/"
        },
        "id": "bM5FfWFui71y",
        "outputId": "1f445ed1-e786-408d-e0aa-4d48742f586e"
      },
      "execution_count": 9,
      "outputs": [
        {
          "output_type": "stream",
          "name": "stdout",
          "text": [
            "      Name  Maths Math_Result\n",
            "0    Alice     75        Pass\n",
            "1      Bob     45        Fail\n",
            "2  Charlie     60        Pass\n",
            "3    David     30        Fail\n"
          ]
        }
      ]
    },
    {
      "cell_type": "code",
      "source": [
        "science_marks = [85, 45, 92, 38, 55, 60, 49, 75]\n",
        "\n",
        "science_result = list(map(lambda mark: \"Pass\" if mark >= 50 else \"Fail\", science_marks))\n",
        "\n",
        "print(f\"Original Science Marks: {science_marks}\")\n",
        "print(f\"Science_Result: {science_result}\")"
      ],
      "metadata": {
        "colab": {
          "base_uri": "https://localhost:8080/"
        },
        "id": "KKylnyQyjEsi",
        "outputId": "222d6dcf-b35f-4426-8c7c-db93e0f6b3dc"
      },
      "execution_count": 10,
      "outputs": [
        {
          "output_type": "stream",
          "name": "stdout",
          "text": [
            "Original Science Marks: [85, 45, 92, 38, 55, 60, 49, 75]\n",
            "Science_Result: ['Pass', 'Fail', 'Pass', 'Fail', 'Pass', 'Pass', 'Fail', 'Pass']\n"
          ]
        }
      ]
    },
    {
      "cell_type": "code",
      "source": [
        "def assign_grade(score):\n",
        "    if score >= 90:\n",
        "        return \"A\"\n",
        "    elif score >= 75:\n",
        "        return \"B\"\n",
        "    elif score >= 50:\n",
        "        return \"C\"\n",
        "    else:\n",
        "        return \"D\"\n",
        "\n",
        "scores = [85, 92, 60, 45, 78, 95, 30]\n",
        "\n",
        "grades = list(map(assign_grade, scores))\n",
        "\n",
        "print(grades)"
      ],
      "metadata": {
        "colab": {
          "base_uri": "https://localhost:8080/"
        },
        "id": "jjQqGSZzjNsa",
        "outputId": "fd7a0dab-72ed-4c8c-c603-f1c96d8350f6"
      },
      "execution_count": 11,
      "outputs": [
        {
          "output_type": "stream",
          "name": "stdout",
          "text": [
            "['B', 'A', 'C', 'D', 'B', 'A', 'D']\n"
          ]
        }
      ]
    },
    {
      "cell_type": "code",
      "source": [
        "import pandas as pd\n",
        "\n",
        "data = {'Name': ['Alice', 'Bob', 'Charlie', 'David'],\n",
        "        'Maths': [95, 88, 92, 76]}\n",
        "df = pd.DataFrame(data)\n",
        "\n",
        "print(\"Original DataFrame:\")\n",
        "print(df)\n",
        "df['Topper'] = df['Maths'].map(lambda x: x > 90)\n",
        "\n",
        "print(\"\\nDataFrame with 'Topper' column:\")\n",
        "print(df)"
      ],
      "metadata": {
        "colab": {
          "base_uri": "https://localhost:8080/"
        },
        "id": "nglPqmKyjXZK",
        "outputId": "6853b431-80df-4137-a6f9-874fbddbe2c3"
      },
      "execution_count": 12,
      "outputs": [
        {
          "output_type": "stream",
          "name": "stdout",
          "text": [
            "Original DataFrame:\n",
            "      Name  Maths\n",
            "0    Alice     95\n",
            "1      Bob     88\n",
            "2  Charlie     92\n",
            "3    David     76\n",
            "\n",
            "DataFrame with 'Topper' column:\n",
            "      Name  Maths  Topper\n",
            "0    Alice     95    True\n",
            "1      Bob     88   False\n",
            "2  Charlie     92    True\n",
            "3    David     76   False\n"
          ]
        }
      ]
    },
    {
      "cell_type": "code",
      "source": [
        "import pandas as pd\n",
        "\n",
        "data = {\n",
        "    'Student': ['Alice', 'Bob', 'Charlie', 'David', 'Eve', 'Frank'],\n",
        "    'Maths': [95, 82, 45, 50, 90, 77]\n",
        "}\n",
        "df = pd.DataFrame(data)\n",
        "\n",
        "print(\"Original DataFrame:\")\n",
        "print(df)\n",
        "def convert_to_stars(math_score):\n",
        "    if math_score >= 90:\n",
        "        return '★★★★★'\n",
        "    elif 50 <= math_score < 90:\n",
        "        return '★★★'\n",
        "    else:  # For any score less than 50\n",
        "        return '★'\n",
        "df['Math_Stars'] = df['Maths'].map(convert_to_stars)\n",
        "\n",
        "print(\"\\nDataFrame with Math_Stars column:\")\n",
        "print(df)"
      ],
      "metadata": {
        "colab": {
          "base_uri": "https://localhost:8080/"
        },
        "id": "p8_yK9fBjjUM",
        "outputId": "c28f2ede-6497-4aa3-edf3-62fc3d137461"
      },
      "execution_count": 14,
      "outputs": [
        {
          "output_type": "stream",
          "name": "stdout",
          "text": [
            "Original DataFrame:\n",
            "   Student  Maths\n",
            "0    Alice     95\n",
            "1      Bob     82\n",
            "2  Charlie     45\n",
            "3    David     50\n",
            "4      Eve     90\n",
            "5    Frank     77\n",
            "\n",
            "DataFrame with Math_Stars column:\n",
            "   Student  Maths Math_Stars\n",
            "0    Alice     95      ★★★★★\n",
            "1      Bob     82        ★★★\n",
            "2  Charlie     45          ★\n",
            "3    David     50        ★★★\n",
            "4      Eve     90      ★★★★★\n",
            "5    Frank     77        ★★★\n"
          ]
        }
      ]
    },
    {
      "cell_type": "code",
      "source": [
        "import pandas as pd\n",
        "\n",
        "data = {'Student': ['Alice', 'Bob', 'Charlie', 'David'],\n",
        "        'Score': [85, 72, 95, 61],\n",
        "        'Status': ['Passed', 'Failed', 'Passed', 'Failed']}\n",
        "\n",
        "df = pd.DataFrame(data)\n",
        "\n",
        "print(\"Original DataFrame:\")\n",
        "print(df)\n",
        "status_map = {'Passed': 1, 'Failed': 0}\n",
        "df['Status'] = df['Status'].map(status_map)\n",
        "\n",
        "print(\"\\nDataFrame with normalized 'Status' column:\")\n",
        "print(df)"
      ],
      "metadata": {
        "colab": {
          "base_uri": "https://localhost:8080/"
        },
        "id": "eKlRRuVxj6bp",
        "outputId": "fa52e789-4910-43c8-d14f-c1355d40a413"
      },
      "execution_count": 15,
      "outputs": [
        {
          "output_type": "stream",
          "name": "stdout",
          "text": [
            "Original DataFrame:\n",
            "   Student  Score  Status\n",
            "0    Alice     85  Passed\n",
            "1      Bob     72  Failed\n",
            "2  Charlie     95  Passed\n",
            "3    David     61  Failed\n",
            "\n",
            "DataFrame with normalized 'Status' column:\n",
            "   Student  Score  Status\n",
            "0    Alice     85       1\n",
            "1      Bob     72       0\n",
            "2  Charlie     95       1\n",
            "3    David     61       0\n"
          ]
        }
      ]
    },
    {
      "cell_type": "code",
      "source": [],
      "metadata": {
        "id": "WAuXmzpNkOXq"
      },
      "execution_count": null,
      "outputs": []
    }
  ]
}