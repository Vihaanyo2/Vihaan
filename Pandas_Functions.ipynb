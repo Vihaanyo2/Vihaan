{
  "nbformat": 4,
  "nbformat_minor": 0,
  "metadata": {
    "colab": {
      "provenance": []
    },
    "kernelspec": {
      "name": "python3",
      "display_name": "Python 3"
    },
    "language_info": {
      "name": "python"
    }
  },
  "cells": [
    {
      "cell_type": "code",
      "execution_count": 5,
      "metadata": {
        "colab": {
          "base_uri": "https://localhost:8080/"
        },
        "id": "4xwrEpaINE2L",
        "outputId": "1823c7af-fc7a-4f46-b12e-9ace15d61f5a"
      },
      "outputs": [
        {
          "output_type": "stream",
          "name": "stdout",
          "text": [
            "   Employee_ID           Name  Age Department  Salary Joining_Date  \\\n",
            "0          101       John Doe   28         IT   50000   15-06-2018   \n",
            "1          102     Jane Smith   32         HR   60000   23-09-2016   \n",
            "2          103    Emily Davis   45    Finance   80000   04-11-2012   \n",
            "3          104  Michael Brown   29         IT   55000   12-07-2019   \n",
            "4          105   Chris Wilson   35  Marketing   62000   19-03-2015   \n",
            "\n",
            "            City  \n",
            "0       New York  \n",
            "1    Los Angeles  \n",
            "2        Chicago  \n",
            "3       New York  \n",
            "4  San Francisco  \n"
          ]
        }
      ],
      "source": [
        "import pandas as pd\n",
        "\n",
        "df = pd.read_csv('Pandas Functions.csv')\n",
        "\n",
        "print(df.head())"
      ]
    },
    {
      "cell_type": "code",
      "source": [
        "import pandas as pd\n",
        "\n",
        "df.info()"
      ],
      "metadata": {
        "colab": {
          "base_uri": "https://localhost:8080/"
        },
        "id": "OnTimic7Nlq3",
        "outputId": "b8bd8475-16b6-47d0-ec70-3e5983a4d7f3"
      },
      "execution_count": 6,
      "outputs": [
        {
          "output_type": "stream",
          "name": "stdout",
          "text": [
            "<class 'pandas.core.frame.DataFrame'>\n",
            "RangeIndex: 10 entries, 0 to 9\n",
            "Data columns (total 7 columns):\n",
            " #   Column        Non-Null Count  Dtype \n",
            "---  ------        --------------  ----- \n",
            " 0   Employee_ID   10 non-null     int64 \n",
            " 1   Name          10 non-null     object\n",
            " 2   Age           10 non-null     int64 \n",
            " 3   Department    10 non-null     object\n",
            " 4   Salary        10 non-null     int64 \n",
            " 5   Joining_Date  10 non-null     object\n",
            " 6   City          10 non-null     object\n",
            "dtypes: int64(3), object(4)\n",
            "memory usage: 692.0+ bytes\n"
          ]
        }
      ]
    },
    {
      "cell_type": "code",
      "source": [
        "import pandas as pd\n",
        "\n",
        "data = {'Name': ['Alice', 'Bob', 'Charlie'],\n",
        "        'Age': [30, 24, 35],\n",
        "        'Salary': [70000, 60000, 85000]}\n",
        "df = pd.DataFrame(data)\n",
        "\n",
        "selected_columns = df[['Name', 'Salary']]\n",
        "print(selected_columns)"
      ],
      "metadata": {
        "colab": {
          "base_uri": "https://localhost:8080/"
        },
        "id": "TJRS5lvENvOv",
        "outputId": "353d0326-367f-47a2-c4b5-c04584aaae48"
      },
      "execution_count": 7,
      "outputs": [
        {
          "output_type": "stream",
          "name": "stdout",
          "text": [
            "      Name  Salary\n",
            "0    Alice   70000\n",
            "1      Bob   60000\n",
            "2  Charlie   85000\n"
          ]
        }
      ]
    },
    {
      "cell_type": "code",
      "source": [
        "import pandas as pd\n",
        "\n",
        "employee_data = {\n",
        "    'Name': ['Alice', 'Bob', 'Charlie', 'David', 'Eve'],\n",
        "    'Age': [28, 35, 42, 29, 31],\n",
        "    'Department': ['HR', 'Sales', 'Engineering', 'Marketing', 'HR'],\n",
        "    'Salary': [60000, 75000, 90000, 62000, 68000]\n",
        "}\n",
        "\n",
        "df = pd.DataFrame(employee_data)\n",
        "\n",
        "filtered_employees = df[df['Age'] > 30]\n",
        "\n",
        "print(\"Employees older than 30:\")\n",
        "print(filtered_employees)"
      ],
      "metadata": {
        "colab": {
          "base_uri": "https://localhost:8080/"
        },
        "id": "cOHw3vXzN7bX",
        "outputId": "12d67faa-1639-409f-f03b-e2fe77ad6ae9"
      },
      "execution_count": 8,
      "outputs": [
        {
          "output_type": "stream",
          "name": "stdout",
          "text": [
            "Employees older than 30:\n",
            "      Name  Age   Department  Salary\n",
            "1      Bob   35        Sales   75000\n",
            "2  Charlie   42  Engineering   90000\n",
            "4      Eve   31           HR   68000\n"
          ]
        }
      ]
    },
    {
      "cell_type": "code",
      "source": [
        "import pandas as pd\n",
        "\n",
        "data = {\n",
        "    'name': ['Alice', 'Bob', 'Charlie', 'David'],\n",
        "    'salary': [50000, 60000, 45000, 75000],\n",
        "    'position': ['Developer', 'Manager', 'Intern', 'Senior Manager']\n",
        "}\n",
        "df = pd.DataFrame(data)\n",
        "\n",
        "sorted_df = df.sort_values(by='salary', ascending=False)\n",
        "\n",
        "print(sorted_df)"
      ],
      "metadata": {
        "colab": {
          "base_uri": "https://localhost:8080/"
        },
        "id": "ri72W4DoOLse",
        "outputId": "3eeac753-3368-4d7b-e405-82737ea4fc91"
      },
      "execution_count": 9,
      "outputs": [
        {
          "output_type": "stream",
          "name": "stdout",
          "text": [
            "      name  salary        position\n",
            "3    David   75000  Senior Manager\n",
            "1      Bob   60000         Manager\n",
            "0    Alice   50000       Developer\n",
            "2  Charlie   45000          Intern\n"
          ]
        }
      ]
    },
    {
      "cell_type": "code",
      "source": [
        "import pandas as pd\n",
        "\n",
        "missing_values_count = df.isnull().sum()\n",
        "print(missing_values_count)"
      ],
      "metadata": {
        "colab": {
          "base_uri": "https://localhost:8080/"
        },
        "id": "fHq-au2vOYMW",
        "outputId": "ec0ebfaa-a701-4b3c-ca25-9f24c98bd630"
      },
      "execution_count": 10,
      "outputs": [
        {
          "output_type": "stream",
          "name": "stdout",
          "text": [
            "name        0\n",
            "salary      0\n",
            "position    0\n",
            "dtype: int64\n"
          ]
        }
      ]
    },
    {
      "cell_type": "code",
      "source": [
        "import pandas as pd\n",
        "\n",
        "data = {\n",
        "    'Employee Name': ['Alice', 'Bob', 'Charlie', 'David', 'Eve', 'Frank'],\n",
        "    'Department': ['HR', 'IT', 'HR', 'Sales', 'IT', 'Sales'],\n",
        "    'Salary': [60000, 75000, 62000, 80000, 78000, 85000]\n",
        "}\n",
        "\n",
        "df = pd.DataFrame(data)\n",
        "department_stats = df.groupby('Department').agg(\n",
        "    Employee_Count=('Employee Name', 'size'),\n",
        "    Average_Salary=('Salary', 'mean')\n",
        ").reset_index()\n",
        "\n",
        "print(department_stats)"
      ],
      "metadata": {
        "colab": {
          "base_uri": "https://localhost:8080/"
        },
        "id": "_SxIfSKDOh7n",
        "outputId": "e89f7ba0-b5dd-4011-dad2-873893d4a0cb"
      },
      "execution_count": 12,
      "outputs": [
        {
          "output_type": "stream",
          "name": "stdout",
          "text": [
            "  Department  Employee_Count  Average_Salary\n",
            "0         HR               2         61000.0\n",
            "1         IT               2         76500.0\n",
            "2      Sales               2         82500.0\n"
          ]
        }
      ]
    },
    {
      "cell_type": "code",
      "source": [
        "import pandas as pd\n",
        "from datetime import datetime\n",
        "\n",
        "data = {'Employee_ID': [1, 2, 3],\n",
        "        'Name': ['Alice', 'Bob', 'Charlie'],\n",
        "        'Joining_Date': ['2010-05-15', '2018-01-20', '2022-11-01']}\n",
        "df = pd.DataFrame(data)\n",
        "\n",
        "df['Joining_Date'] = pd.to_datetime(df['Joining_Date'])\n",
        "\n",
        "current_year = datetime.now().year\n",
        "\n",
        "df['Years_of_Experience'] = current_year - df['Joining_Date'].dt.year\n",
        "\n",
        "print(df)"
      ],
      "metadata": {
        "colab": {
          "base_uri": "https://localhost:8080/"
        },
        "id": "BFKxnu4XOzuu",
        "outputId": "2cd53678-776e-492e-e8b3-959dbfd7db8e"
      },
      "execution_count": 13,
      "outputs": [
        {
          "output_type": "stream",
          "name": "stdout",
          "text": [
            "   Employee_ID     Name Joining_Date  Years_of_Experience\n",
            "0            1    Alice   2010-05-15                   15\n",
            "1            2      Bob   2018-01-20                    7\n",
            "2            3  Charlie   2022-11-01                    3\n"
          ]
        }
      ]
    },
    {
      "cell_type": "code",
      "source": [
        "import pandas as pd\n",
        "\n",
        "\n",
        "data = {'Name': ['Alice', 'Bob', 'Charlie'],\n",
        "        'Department': ['IT', 'HR', 'Finance'],\n",
        "        'Salary': [60000, 55000, 75000]}\n",
        "df = pd.DataFrame(data)\n",
        "\n",
        "print(\"Original DataFrame:\")\n",
        "print(df)\n",
        "print(\"-\" * 30)\n",
        "\n",
        "df.rename(columns={'Salary': 'Annual_Salary'}, inplace=True)\n",
        "\n",
        "\n",
        "df['Department'] = df['Department'].str.upper()\n",
        "\n",
        "print(\"Modified DataFrame:\")\n",
        "print(df)"
      ],
      "metadata": {
        "colab": {
          "base_uri": "https://localhost:8080/"
        },
        "id": "PNrT6E9TPBH3",
        "outputId": "c6b005bf-ca54-4f57-8e82-204fda2586e8"
      },
      "execution_count": 14,
      "outputs": [
        {
          "output_type": "stream",
          "name": "stdout",
          "text": [
            "Original DataFrame:\n",
            "      Name Department  Salary\n",
            "0    Alice         IT   60000\n",
            "1      Bob         HR   55000\n",
            "2  Charlie    Finance   75000\n",
            "------------------------------\n",
            "Modified DataFrame:\n",
            "      Name Department  Annual_Salary\n",
            "0    Alice         IT          60000\n",
            "1      Bob         HR          55000\n",
            "2  Charlie    FINANCE          75000\n"
          ]
        }
      ]
    },
    {
      "cell_type": "code",
      "source": [
        "import pandas as pd\n",
        "\n",
        "data = {'col1': [10, 20, 30], 'col2': ['A_mod', 'B_mod', 'C_mod']}\n",
        "df_modified = pd.DataFrame(data)\n",
        "\n",
        "df_modified.to_csv('updated_pandas_functions_data.csv', index=False)"
      ],
      "metadata": {
        "id": "zk2VEKqBPV2u"
      },
      "execution_count": 15,
      "outputs": []
    }
  ]
}