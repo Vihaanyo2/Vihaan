{
  "nbformat": 4,
  "nbformat_minor": 0,
  "metadata": {
    "colab": {
      "provenance": []
    },
    "kernelspec": {
      "name": "python3",
      "display_name": "Python 3"
    },
    "language_info": {
      "name": "python"
    }
  },
  "cells": [
    {
      "cell_type": "code",
      "execution_count": 1,
      "metadata": {
        "colab": {
          "base_uri": "https://localhost:8080/"
        },
        "id": "FL9QTeQ270X3",
        "outputId": "ace1bcd2-71e8-4270-f63c-b7e43158b627"
      },
      "outputs": [
        {
          "output_type": "stream",
          "name": "stdout",
          "text": [
            "      Name  Age Department  Salary  Experience\n",
            "0    Alice   25         HR   50000           2\n",
            "1      Bob   30         IT   60000           4\n",
            "2  Charlie   35    Finance   70000           6\n",
            "3    David   28         IT   55000           3\n",
            "4      Eve   40         HR   80000          10\n",
            "5   Farhan   27    Finance   65000           2\n",
            "6     Gita   32         IT   72000           5\n"
          ]
        }
      ],
      "source": [
        "import pandas as pd\n",
        "\n",
        "df = pd.read_csv('employee_sorting.csv')\n",
        "\n",
        "print(df)"
      ]
    },
    {
      "cell_type": "code",
      "source": [
        "class Employee:\n",
        "    def __init__(self, name, salary):\n",
        "        self.name = name\n",
        "        self.salary = salary\n",
        "\n",
        "    def __repr__(self):\n",
        "        # This method provides a readable string representation of the object\n",
        "        return f\"Employee(name='{self.name}', salary={self.salary})\"\n",
        "\n",
        "employees = [\n",
        "    Employee('Alice', 60000),\n",
        "    Employee('Bob', 50000),\n",
        "    Employee('Charlie', 75000),\n",
        "    Employee('David', 50000)\n",
        "]\n",
        "\n",
        "sorted_employees = sorted(employees, key=lambda emp: emp.salary)\n",
        "\n",
        "print(\"Original list:\")\n",
        "print(employees)\n",
        "print(\"\\nSorted list by salary (ascending):\")\n",
        "print(sorted_employees)"
      ],
      "metadata": {
        "colab": {
          "base_uri": "https://localhost:8080/"
        },
        "id": "Ghcrka-u8NnT",
        "outputId": "a436b13d-0984-458f-dc14-874259e6a517"
      },
      "execution_count": 2,
      "outputs": [
        {
          "output_type": "stream",
          "name": "stdout",
          "text": [
            "Original list:\n",
            "[Employee(name='Alice', salary=60000), Employee(name='Bob', salary=50000), Employee(name='Charlie', salary=75000), Employee(name='David', salary=50000)]\n",
            "\n",
            "Sorted list by salary (ascending):\n",
            "[Employee(name='Bob', salary=50000), Employee(name='David', salary=50000), Employee(name='Alice', salary=60000), Employee(name='Charlie', salary=75000)]\n"
          ]
        }
      ]
    },
    {
      "cell_type": "code",
      "source": [
        "class Employee:\n",
        "    def __init__(self, name, salary):\n",
        "        self.name = name\n",
        "        self.salary = salary\n",
        "\n",
        "    def __repr__(self):\n",
        "        # This method provides a readable string representation of the object\n",
        "        return f\"Employee(name='{self.name}', salary={self.salary})\"\n",
        "employee_list = [\n",
        "    Employee(\"Alice\", 60000),\n",
        "    Employee(\"Bob\", 80000),\n",
        "    Employee(\"Charlie\", 50000),\n",
        "    Employee(\"Diana\", 95000),\n",
        "]\n",
        "\n",
        "sorted_employee_list = sorted(employee_list, key=lambda employee: employee.salary, reverse=True)\n",
        "\n",
        "for employee in sorted_employee_list:\n",
        "    print(employee)"
      ],
      "metadata": {
        "colab": {
          "base_uri": "https://localhost:8080/"
        },
        "id": "iHPn1yy_8uXa",
        "outputId": "f20d9c03-9e43-49bf-e115-f03f0535d8ee"
      },
      "execution_count": 3,
      "outputs": [
        {
          "output_type": "stream",
          "name": "stdout",
          "text": [
            "Employee(name='Diana', salary=95000)\n",
            "Employee(name='Bob', salary=80000)\n",
            "Employee(name='Alice', salary=60000)\n",
            "Employee(name='Charlie', salary=50000)\n"
          ]
        }
      ]
    },
    {
      "cell_type": "code",
      "source": [
        "employees = [\n",
        "    {\"name\": \"Alice\", \"experience\": 5},\n",
        "    {\"name\": \"Bob\", \"experience\": 10},\n",
        "    {\"name\": \"Charlie\", \"experience\": 2},\n",
        "    {\"name\": \"David\", \"experience\": 8},\n",
        "]\n",
        "\n",
        "sorted_employees = sorted(employees, key=lambda employee: employee[\"experience\"], reverse=True)\n",
        "print(\"Sorted employees (new list):\")\n",
        "for employee in sorted_employees:\n",
        "    print(employee)\n",
        "\n",
        "employees.sort(key=lambda employee: employee[\"experience\"], reverse=True)\n",
        "print(\"\\nEmployees sorted in-place:\")\n",
        "for employee in employees:\n",
        "    print(employee)"
      ],
      "metadata": {
        "colab": {
          "base_uri": "https://localhost:8080/"
        },
        "id": "2LHhDvWK9OBq",
        "outputId": "60824964-9553-4df6-b815-7fc2707db052"
      },
      "execution_count": 4,
      "outputs": [
        {
          "output_type": "stream",
          "name": "stdout",
          "text": [
            "Sorted employees (new list):\n",
            "{'name': 'Bob', 'experience': 10}\n",
            "{'name': 'David', 'experience': 8}\n",
            "{'name': 'Alice', 'experience': 5}\n",
            "{'name': 'Charlie', 'experience': 2}\n",
            "\n",
            "Employees sorted in-place:\n",
            "{'name': 'Bob', 'experience': 10}\n",
            "{'name': 'David', 'experience': 8}\n",
            "{'name': 'Alice', 'experience': 5}\n",
            "{'name': 'Charlie', 'experience': 2}\n"
          ]
        }
      ]
    },
    {
      "cell_type": "code",
      "source": [
        "import pandas as pd\n",
        "\n",
        "data = {'Name': ['Charlie', 'Alice', 'Bob', 'David'],\n",
        "        'Age': [30, 25, 35, 40],\n",
        "        'Score': [95, 85, 90, 80]}\n",
        "df = pd.DataFrame(data)\n",
        "\n",
        "print(\"Original DataFrame:\")\n",
        "print(df)\n",
        "\n",
        "sorted_df = df.sort_values(by='Name', ascending=True)\n",
        "\n",
        "print(\"\\nSorted DataFrame by Name (A to Z):\")\n",
        "print(sorted_df)"
      ],
      "metadata": {
        "colab": {
          "base_uri": "https://localhost:8080/"
        },
        "id": "4IzCYmHG9lka",
        "outputId": "4a0d27de-47da-4ebb-91c8-97a4392e7d18"
      },
      "execution_count": 5,
      "outputs": [
        {
          "output_type": "stream",
          "name": "stdout",
          "text": [
            "Original DataFrame:\n",
            "      Name  Age  Score\n",
            "0  Charlie   30     95\n",
            "1    Alice   25     85\n",
            "2      Bob   35     90\n",
            "3    David   40     80\n",
            "\n",
            "Sorted DataFrame by Name (A to Z):\n",
            "      Name  Age  Score\n",
            "1    Alice   25     85\n",
            "2      Bob   35     90\n",
            "0  Charlie   30     95\n",
            "3    David   40     80\n"
          ]
        }
      ]
    },
    {
      "cell_type": "code",
      "source": [
        "employees = [\n",
        "    {'name': 'Alice', 'department': 'HR', 'salary': 60000},\n",
        "    {'name': 'Bob', 'department': 'Engineering', 'salary': 90000},\n",
        "    {'name': 'Charlie', 'department': 'HR', 'salary': 75000},\n",
        "    {'name': 'David', 'department': 'Engineering', 'salary': 85000},\n",
        "    {'name': 'Eve', 'department': 'Marketing', 'salary': 65000},\n",
        "    {'name': 'Frank', 'department': 'HR', 'salary': 70000},\n",
        "    {'name': 'Grace', 'department': 'Engineering', 'salary': 95000},\n",
        "]\n",
        "\n",
        "sorted_employees = sorted(employees, key=lambda x: (x['department'], -x['salary']))\n",
        "\n",
        "for employee in sorted_employees:\n",
        "    print(employee)"
      ],
      "metadata": {
        "colab": {
          "base_uri": "https://localhost:8080/"
        },
        "id": "1an-JM6z9vz6",
        "outputId": "1576bd59-3fae-48c7-d198-fd8dbeb2650f"
      },
      "execution_count": 6,
      "outputs": [
        {
          "output_type": "stream",
          "name": "stdout",
          "text": [
            "{'name': 'Grace', 'department': 'Engineering', 'salary': 95000}\n",
            "{'name': 'Bob', 'department': 'Engineering', 'salary': 90000}\n",
            "{'name': 'David', 'department': 'Engineering', 'salary': 85000}\n",
            "{'name': 'Charlie', 'department': 'HR', 'salary': 75000}\n",
            "{'name': 'Frank', 'department': 'HR', 'salary': 70000}\n",
            "{'name': 'Alice', 'department': 'HR', 'salary': 60000}\n",
            "{'name': 'Eve', 'department': 'Marketing', 'salary': 65000}\n"
          ]
        }
      ]
    },
    {
      "cell_type": "code",
      "source": [
        "employees = [\n",
        "    {'name': 'Alice', 'age': 30, 'experience': 5},\n",
        "    {'name': 'Bob', 'age': 25, 'experience': 8},\n",
        "    {'name': 'Charlie', 'age': 30, 'experience': 3},\n",
        "    {'name': 'David', 'age': 25, 'experience': 6},\n",
        "    {'name': 'Eve', 'age': 35, 'experience': 10},\n",
        "]\n",
        "\n",
        "employees.sort(key=lambda employee: (employee['age'], -employee['experience']))\n",
        "\n",
        "for employee in employees:\n",
        "    print(employee)"
      ],
      "metadata": {
        "colab": {
          "base_uri": "https://localhost:8080/"
        },
        "id": "_rQEWplp-BKK",
        "outputId": "48252f25-8a8b-413d-b36c-aab2f57c6bc8"
      },
      "execution_count": 7,
      "outputs": [
        {
          "output_type": "stream",
          "name": "stdout",
          "text": [
            "{'name': 'Bob', 'age': 25, 'experience': 8}\n",
            "{'name': 'David', 'age': 25, 'experience': 6}\n",
            "{'name': 'Alice', 'age': 30, 'experience': 5}\n",
            "{'name': 'Charlie', 'age': 30, 'experience': 3}\n",
            "{'name': 'Eve', 'age': 35, 'experience': 10}\n"
          ]
        }
      ]
    },
    {
      "cell_type": "code",
      "source": [
        "import pandas as pd\n",
        "\n",
        "data = {'Name': ['Alice', 'Bob', 'Charlie', 'David'],\n",
        "        'Age': [25, 30, 35, 40],\n",
        "        'Salary': [60000, 80000, 75000, 90000]}\n",
        "df = pd.DataFrame(data)\n",
        "\n",
        "df_sorted = df.sort_values(by='Salary')\n",
        "\n",
        "print(\"Original DataFrame:\")\n",
        "print(df)\n",
        "\n",
        "print(\"\\nSorted DataFrame (copy):\")\n",
        "print(df_sorted)"
      ],
      "metadata": {
        "colab": {
          "base_uri": "https://localhost:8080/"
        },
        "id": "GoCGOU2J-Nj2",
        "outputId": "6b8a8918-cbbd-4fa2-ce0c-f5f37c1e90e1"
      },
      "execution_count": 8,
      "outputs": [
        {
          "output_type": "stream",
          "name": "stdout",
          "text": [
            "Original DataFrame:\n",
            "      Name  Age  Salary\n",
            "0    Alice   25   60000\n",
            "1      Bob   30   80000\n",
            "2  Charlie   35   75000\n",
            "3    David   40   90000\n",
            "\n",
            "Sorted DataFrame (copy):\n",
            "      Name  Age  Salary\n",
            "0    Alice   25   60000\n",
            "2  Charlie   35   75000\n",
            "1      Bob   30   80000\n",
            "3    David   40   90000\n"
          ]
        }
      ]
    },
    {
      "cell_type": "code",
      "source": [
        "import pandas as pd\n",
        "\n",
        "data = {'Name': ['Alice', 'Bob', 'Charlie', 'David'],\n",
        "        'Experience': [5, 2, 8, 3],\n",
        "        'City': ['New York', 'London', 'Paris', 'Tokyo']}\n",
        "df = pd.DataFrame(data)\n",
        "\n",
        "print(\"Original DataFrame:\")\n",
        "print(df)\n",
        "\n",
        "df.sort_values(by='Experience', inplace=True)\n",
        "\n",
        "print(\"\\nDataFrame after in-place sorting by 'Experience':\")\n",
        "print(df)"
      ],
      "metadata": {
        "colab": {
          "base_uri": "https://localhost:8080/"
        },
        "id": "W-d1SC5g-eXy",
        "outputId": "804d537e-463f-40d3-d9da-ded5c7585938"
      },
      "execution_count": 9,
      "outputs": [
        {
          "output_type": "stream",
          "name": "stdout",
          "text": [
            "Original DataFrame:\n",
            "      Name  Experience      City\n",
            "0    Alice           5  New York\n",
            "1      Bob           2    London\n",
            "2  Charlie           8     Paris\n",
            "3    David           3     Tokyo\n",
            "\n",
            "DataFrame after in-place sorting by 'Experience':\n",
            "      Name  Experience      City\n",
            "1      Bob           2    London\n",
            "3    David           3     Tokyo\n",
            "0    Alice           5  New York\n",
            "2  Charlie           8     Paris\n"
          ]
        }
      ]
    },
    {
      "cell_type": "code",
      "source": [
        "import pandas as pd\n",
        "\n",
        "try:\n",
        "    df = pd.read_csv('employee_sorting.csv')\n",
        "except FileNotFoundError:\n",
        "    print(\"Error: 'employees.csv' not found. Please ensure the file exists.\")\n",
        "    exit()\n",
        "\n",
        "sorted_df = df.sort_values(by=['Department', 'Salary'])\n",
        "\n",
        "output_filename = 'sorted_employees.csv'\n",
        "sorted_df.to_csv(output_filename, index=False) # index=False prevents writing the DataFrame index as a column\n",
        "\n",
        "print(f\"Successfully sorted data and saved to '{output_filename}'.\")"
      ],
      "metadata": {
        "colab": {
          "base_uri": "https://localhost:8080/"
        },
        "id": "EVYyoxEi-qqx",
        "outputId": "bc88b2e7-a95f-43d5-b4f3-0920a1097e5f"
      },
      "execution_count": 1,
      "outputs": [
        {
          "output_type": "stream",
          "name": "stdout",
          "text": [
            "Successfully sorted data and saved to 'sorted_employees.csv'.\n"
          ]
        }
      ]
    }
  ]
}