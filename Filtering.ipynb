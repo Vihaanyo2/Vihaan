{
  "nbformat": 4,
  "nbformat_minor": 0,
  "metadata": {
    "colab": {
      "provenance": []
    },
    "kernelspec": {
      "name": "python3",
      "display_name": "Python 3"
    },
    "language_info": {
      "name": "python"
    }
  },
  "cells": [
    {
      "cell_type": "code",
      "execution_count": 1,
      "metadata": {
        "colab": {
          "base_uri": "https://localhost:8080/"
        },
        "id": "tGj0h345Y0p0",
        "outputId": "f897108f-8525-42df-e14f-d7189fede1d4"
      },
      "outputs": [
        {
          "output_type": "stream",
          "name": "stdout",
          "text": [
            "    Name  Class  Maths  Science  English       City\n",
            "0   Amit     10     78       85       74      Delhi\n",
            "1  Priya     10     88       92       89     Mumbai\n",
            "2   Ravi     10     45       50       60  Bangalore\n",
            "3  Sneha     10     95       98       99      Delhi\n",
            "4  Karan     10     30       35       40    Kolkata\n"
          ]
        }
      ],
      "source": [
        "import pandas as pd\n",
        "\n",
        "df = pd.read_csv('Filtering.csv')\n",
        "\n",
        "print(df.head())"
      ]
    },
    {
      "cell_type": "code",
      "source": [
        "students = [\n",
        "    {'name': 'Alice', 'Maths': 90, 'Science': 85, 'English': 92},\n",
        "    {'name': 'Bob', 'Maths': 70, 'Science': 35, 'English': 88},\n",
        "    {'name': 'Charlie', 'Maths': 95, 'Science': 98, 'English': 91},\n",
        "    {'name': 'David', 'Maths': 45, 'Science': 42, 'English': 38},\n",
        "    {'name': 'Eve', 'Maths': 60, 'Science': 55, 'English': 65}\n",
        "]\n",
        "\n",
        "passed_students = []\n",
        "for student in students:\n",
        "    if student['Maths'] > 40 and student['Science'] > 40 and student['English'] > 40:\n",
        "        passed_students.append(student)\n",
        "\n",
        "print(passed_students)\n"
      ],
      "metadata": {
        "colab": {
          "base_uri": "https://localhost:8080/"
        },
        "id": "327sK2okZFke",
        "outputId": "4db3ac1a-f95c-43a3-e6d2-c168060eb4b1"
      },
      "execution_count": 2,
      "outputs": [
        {
          "output_type": "stream",
          "name": "stdout",
          "text": [
            "[{'name': 'Alice', 'Maths': 90, 'Science': 85, 'English': 92}, {'name': 'Charlie', 'Maths': 95, 'Science': 98, 'English': 91}, {'name': 'Eve', 'Maths': 60, 'Science': 55, 'English': 65}]\n"
          ]
        }
      ]
    },
    {
      "cell_type": "code",
      "source": [
        "students = [\n",
        "    {'name': 'Alice', 'Science': 95, 'Math': 88},\n",
        "    {'name': 'Bob', 'Science': 89, 'Math': 92},\n",
        "    {'name': 'Charlie', 'Science': 91, 'Math': 78},\n",
        "    {'name': 'David', 'Science': 85, 'Math': 95},\n",
        "    {'name': 'Eve', 'Science': 98, 'Math': 90}\n",
        "]\n",
        "\n",
        "high_performers = [student for student in students if student['Science'] > 90]\n",
        "\n",
        "\n",
        "for student in high_performers:\n",
        "  print(f\"{student['name']} scored {student['Science']} in Science.\")"
      ],
      "metadata": {
        "colab": {
          "base_uri": "https://localhost:8080/"
        },
        "id": "RJuc0h4vZpWX",
        "outputId": "27a79341-6c40-4272-a703-197e13de3f6a"
      },
      "execution_count": 5,
      "outputs": [
        {
          "output_type": "stream",
          "name": "stdout",
          "text": [
            "Alice scored 95 in Science.\n",
            "Charlie scored 91 in Science.\n",
            "Eve scored 98 in Science.\n"
          ]
        }
      ]
    },
    {
      "cell_type": "code",
      "source": [
        "students = [\n",
        "    {'name': 'Alice', 'city': 'Mumbai'},\n",
        "    {'name': 'Bob', 'city': 'Delhi'},\n",
        "    {'name': 'Charlie', 'city': 'Mumbai'},\n",
        "    {'name': 'David', 'city': 'Bangalore'},\n",
        "    {'name': 'Eve', 'city': 'Mumbai'}\n",
        "]\n",
        "mumbai_students = [student for student in students if student['city'] == 'Mumbai']\n",
        "\n",
        "print(mumbai_students)"
      ],
      "metadata": {
        "colab": {
          "base_uri": "https://localhost:8080/"
        },
        "id": "Czg2A9cCaF69",
        "outputId": "db94ec64-2a59-4c75-a1cf-460a96934871"
      },
      "execution_count": 6,
      "outputs": [
        {
          "output_type": "stream",
          "name": "stdout",
          "text": [
            "[{'name': 'Alice', 'city': 'Mumbai'}, {'name': 'Charlie', 'city': 'Mumbai'}, {'name': 'Eve', 'city': 'Mumbai'}]\n"
          ]
        }
      ]
    },
    {
      "cell_type": "code",
      "source": [
        "import pandas as pd\n",
        "\n",
        "data = {\n",
        "    'name': ['Alice', 'Bob', 'Charlie', 'Diana', 'Eve'],\n",
        "    'math': [85, 35, 92, 65, 95],\n",
        "    'science': [90, 88, 30, 72, 98],\n",
        "    'history': [78, 75, 81, 39, 91]\n",
        "}\n",
        "df = pd.DataFrame(data)\n",
        "\n",
        "passing_threshold = 40\n",
        "\n",
        "failing_mask = (df[['math', 'science', 'history']] < passing_threshold).any(axis=1)\n",
        "\n",
        "failing_students_df = df[failing_mask]\n",
        "\n",
        "print(\"Students who failed at least one subject:\")\n",
        "print(failing_students_df)"
      ],
      "metadata": {
        "colab": {
          "base_uri": "https://localhost:8080/"
        },
        "id": "lBwnvRMKaWo8",
        "outputId": "11083315-3106-4588-e870-87af1fb15bae"
      },
      "execution_count": 7,
      "outputs": [
        {
          "output_type": "stream",
          "name": "stdout",
          "text": [
            "Students who failed at least one subject:\n",
            "      name  math  science  history\n",
            "1      Bob    35       88       75\n",
            "2  Charlie    92       30       81\n",
            "3    Diana    65       72       39\n"
          ]
        }
      ]
    },
    {
      "cell_type": "code",
      "source": [
        "import pandas as pd\n",
        "\n",
        "data = {\n",
        "    'Name': ['Alice', 'Bob', 'Charlie', 'David', 'Eve'],\n",
        "    'Math': [85, 70, 92, 78, 95],\n",
        "    'Science': [90, 75, 88, 82, 91],\n",
        "    'English': [78, 85, 90, 70, 88]\n",
        "}\n",
        "\n",
        "df = pd.DataFrame(data)\n",
        "\n",
        "df['Average'] = df[['Math', 'Science', 'English']].mean(axis=1)\n",
        "\n",
        "filtered_df = df[df['Average'] > 80]\n",
        "\n",
        "print(filtered_df)"
      ],
      "metadata": {
        "colab": {
          "base_uri": "https://localhost:8080/"
        },
        "id": "nErmsPUHavK9",
        "outputId": "eb5952c4-6f1c-4f6a-c3e8-9dbcd6b0692a"
      },
      "execution_count": 8,
      "outputs": [
        {
          "output_type": "stream",
          "name": "stdout",
          "text": [
            "      Name  Math  Science  English    Average\n",
            "0    Alice    85       90       78  84.333333\n",
            "2  Charlie    92       88       90  90.000000\n",
            "4      Eve    95       91       88  91.333333\n"
          ]
        }
      ]
    },
    {
      "cell_type": "code",
      "source": [
        "students = [\"Alice\", \"Bob\", \"Andrew\", \"Claire\", \"Adam\"]\n",
        "\n",
        "filtered_students = filter(lambda name: name.startswith('A'), students)\n",
        "\n",
        "starts_with_a = list(filtered_students)\n",
        "students = [\"Alice\", \"bob\", \"Andrew\", \"claire\", \"Adam\", \"amy\"]\n",
        "\n",
        "starts_with_a_case_insensitive = [\n",
        "    name for name in students if name.lower().startswith('a')\n",
        "]\n",
        "\n",
        "print(starts_with_a_case_insensitive)\n"
      ],
      "metadata": {
        "colab": {
          "base_uri": "https://localhost:8080/"
        },
        "id": "wZvVY_lxa_K8",
        "outputId": "44d10a32-2d10-4d58-b712-218950a6d7e0"
      },
      "execution_count": 9,
      "outputs": [
        {
          "output_type": "stream",
          "name": "stdout",
          "text": [
            "['Alice', 'Andrew', 'Adam', 'amy']\n"
          ]
        }
      ]
    }
  ]
}