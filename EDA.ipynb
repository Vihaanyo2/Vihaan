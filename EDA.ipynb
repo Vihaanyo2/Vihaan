{
  "nbformat": 4,
  "nbformat_minor": 0,
  "metadata": {
    "colab": {
      "provenance": []
    },
    "kernelspec": {
      "name": "python3",
      "display_name": "Python 3"
    },
    "language_info": {
      "name": "python"
    }
  },
  "cells": [
    {
      "cell_type": "code",
      "execution_count": 2,
      "metadata": {
        "colab": {
          "base_uri": "https://localhost:8080/"
        },
        "id": "3Ua0LF4yQ1S4",
        "outputId": "2b86ec4e-d1ee-44bf-8a3b-f7bcbc8c5376"
      },
      "outputs": [
        {
          "output_type": "stream",
          "name": "stdout",
          "text": [
            "   Employee_ID           Name  Age Department   Salary Joining_Date  \\\n",
            "0          101       John Doe   28         IT  50000.0   15-06-2018   \n",
            "1          102     Jane Smith   32         HR  60000.0   23-09-2016   \n",
            "2          103    Emily Davis   45    Finance  80000.0   04-11-2012   \n",
            "3          104  Michael Brown   29         IT  55000.0   12-07-2019   \n",
            "4          105   Chris Wilson   35  Marketing  62000.0   19-03-2015   \n",
            "\n",
            "            City  \n",
            "0       New York  \n",
            "1    Los Angeles  \n",
            "2        Chicago  \n",
            "3       New York  \n",
            "4  San Francisco  \n"
          ]
        }
      ],
      "source": [
        "import pandas as pd\n",
        "\n",
        "df = pd.read_csv('Exploratory Data Analysis.csv')\n",
        "\n",
        "print(df.head())"
      ]
    },
    {
      "cell_type": "code",
      "source": [
        "import pandas as pd\n",
        "\n",
        "data = {'col1': [1, 2, 3, None],\n",
        "        'col2': ['A', 'B', 'C', 'D'],\n",
        "        'col3': [10.1, 20.2, None, 40.4]}\n",
        "df = pd.DataFrame(data)\n",
        "\n",
        "df.info()"
      ],
      "metadata": {
        "colab": {
          "base_uri": "https://localhost:8080/"
        },
        "id": "8VMqPDqURFOX",
        "outputId": "ee211579-7fb4-4c2e-e4f8-71812b2edd08"
      },
      "execution_count": 3,
      "outputs": [
        {
          "output_type": "stream",
          "name": "stdout",
          "text": [
            "<class 'pandas.core.frame.DataFrame'>\n",
            "RangeIndex: 4 entries, 0 to 3\n",
            "Data columns (total 3 columns):\n",
            " #   Column  Non-Null Count  Dtype  \n",
            "---  ------  --------------  -----  \n",
            " 0   col1    3 non-null      float64\n",
            " 1   col2    4 non-null      object \n",
            " 2   col3    3 non-null      float64\n",
            "dtypes: float64(2), object(1)\n",
            "memory usage: 228.0+ bytes\n"
          ]
        }
      ]
    },
    {
      "cell_type": "code",
      "source": [
        "import pandas as pd\n",
        "import numpy as np\n",
        "\n",
        "data = {'col1': [1, 2, np.nan, 4],\n",
        "        'col2': [5, np.nan, 7, 8],\n",
        "        'col3': [9, 10, 11, np.nan],\n",
        "        'col4': [12, 13, 14, 15]}\n",
        "df = pd.DataFrame(data)\n",
        "\n",
        "missing_values_count = df.isnull().sum()\n",
        "\n",
        "print(missing_values_count)"
      ],
      "metadata": {
        "colab": {
          "base_uri": "https://localhost:8080/"
        },
        "id": "iUrlBsPHRNsu",
        "outputId": "f5b03bea-ec85-4335-af7f-5f3dfce8996e"
      },
      "execution_count": 4,
      "outputs": [
        {
          "output_type": "stream",
          "name": "stdout",
          "text": [
            "col1    1\n",
            "col2    1\n",
            "col3    1\n",
            "col4    0\n",
            "dtype: int64\n"
          ]
        }
      ]
    },
    {
      "cell_type": "code",
      "source": [
        "import pandas as pd\n",
        "import numpy as np\n",
        "\n",
        "data = {'Name': ['Alice', 'Bob', np.nan, 'David'],\n",
        "        'Salary': [70000, np.nan, 90000, 60000],\n",
        "        'Department': ['HR', 'IT', 'HR', 'Finance']}\n",
        "df = pd.DataFrame(data)\n",
        "\n",
        "print(\"Original DataFrame:\")\n",
        "print(df)\n",
        "print(\"-\" * 30)\n",
        "\n",
        "df['Name'].fillna('Unknown', inplace=True)\n",
        "\n",
        "average_salary = df['Salary'].mean()\n",
        "df['Salary'].fillna(average_salary, inplace=True)\n",
        "\n",
        "print(\"DataFrame with missing values handled:\")\n",
        "print(df)"
      ],
      "metadata": {
        "colab": {
          "base_uri": "https://localhost:8080/"
        },
        "id": "2RdXWtLfRWCG",
        "outputId": "f810123b-2c8b-4571-90a4-3b6dc9930889"
      },
      "execution_count": 5,
      "outputs": [
        {
          "output_type": "stream",
          "name": "stdout",
          "text": [
            "Original DataFrame:\n",
            "    Name   Salary Department\n",
            "0  Alice  70000.0         HR\n",
            "1    Bob      NaN         IT\n",
            "2    NaN  90000.0         HR\n",
            "3  David  60000.0    Finance\n",
            "------------------------------\n",
            "DataFrame with missing values handled:\n",
            "      Name        Salary Department\n",
            "0    Alice  70000.000000         HR\n",
            "1      Bob  73333.333333         IT\n",
            "2  Unknown  90000.000000         HR\n",
            "3    David  60000.000000    Finance\n"
          ]
        },
        {
          "output_type": "stream",
          "name": "stderr",
          "text": [
            "/tmp/ipython-input-2647739601.py:13: FutureWarning: A value is trying to be set on a copy of a DataFrame or Series through chained assignment using an inplace method.\n",
            "The behavior will change in pandas 3.0. This inplace method will never work because the intermediate object on which we are setting values always behaves as a copy.\n",
            "\n",
            "For example, when doing 'df[col].method(value, inplace=True)', try using 'df.method({col: value}, inplace=True)' or df[col] = df[col].method(value) instead, to perform the operation inplace on the original object.\n",
            "\n",
            "\n",
            "  df['Name'].fillna('Unknown', inplace=True)\n",
            "/tmp/ipython-input-2647739601.py:16: FutureWarning: A value is trying to be set on a copy of a DataFrame or Series through chained assignment using an inplace method.\n",
            "The behavior will change in pandas 3.0. This inplace method will never work because the intermediate object on which we are setting values always behaves as a copy.\n",
            "\n",
            "For example, when doing 'df[col].method(value, inplace=True)', try using 'df.method({col: value}, inplace=True)' or df[col] = df[col].method(value) instead, to perform the operation inplace on the original object.\n",
            "\n",
            "\n",
            "  df['Salary'].fillna(average_salary, inplace=True)\n"
          ]
        }
      ]
    },
    {
      "cell_type": "code",
      "source": [
        "import pandas as pd\n",
        "\n",
        "data = {'col1': ['A', 'B', 'A', 'C', 'B'],\n",
        "        'col2': [1, 2, 1, 3, 2]}\n",
        "df = pd.DataFrame(data)\n",
        "\n",
        "duplicate_rows = df.duplicated()\n",
        "print(\"Boolean Series indicating duplicate rows:\")\n",
        "print(duplicate_rows)\n",
        "\n",
        "num_duplicates = df.duplicated().sum()\n",
        "print(f\"\\nNumber of duplicate rows: {num_duplicates}\")\n",
        "\n",
        "duplicate_col1_col2 = df.duplicated(subset=['col1', 'col2'])\n",
        "print(\"\\nBoolean Series indicating duplicate rows based on 'col1' and 'col2':\")\n",
        "print(duplicate_col1_col2)"
      ],
      "metadata": {
        "colab": {
          "base_uri": "https://localhost:8080/"
        },
        "id": "YAwumJG8RoBV",
        "outputId": "29d96995-bc92-4a86-8707-d0046a979abf"
      },
      "execution_count": 6,
      "outputs": [
        {
          "output_type": "stream",
          "name": "stdout",
          "text": [
            "Boolean Series indicating duplicate rows:\n",
            "0    False\n",
            "1    False\n",
            "2     True\n",
            "3    False\n",
            "4     True\n",
            "dtype: bool\n",
            "\n",
            "Number of duplicate rows: 2\n",
            "\n",
            "Boolean Series indicating duplicate rows based on 'col1' and 'col2':\n",
            "0    False\n",
            "1    False\n",
            "2     True\n",
            "3    False\n",
            "4     True\n",
            "dtype: bool\n"
          ]
        }
      ]
    },
    {
      "cell_type": "code",
      "source": [
        "import pandas as pd\n",
        "import numpy as np\n",
        "\n",
        "data = {\n",
        "    'Name': ['Alice', 'Bob', 'Charlie', 'David', 'Eve'],\n",
        "    'Age': [25, -3, 35, -2, 42]\n",
        "}\n",
        "df = pd.DataFrame(data)\n",
        "\n",
        "print(\"Original DataFrame:\")\n",
        "print(df)\n",
        "print(\"\\n\" + \"-\"*30 + \"\\n\")\n",
        "\n",
        "valid_ages = df[df['Age'] >= 0]['Age']\n",
        "average_age = valid_ages.mean()\n",
        "\n",
        "print(f\"Average age (ignoring negative values): {average_age:.2f}\\n\")\n",
        "\n",
        "df['Age'] = df['Age'].apply(lambda x: average_age if x < 0 else x)\n",
        "\n",
        "print(\"Corrected DataFrame:\")\n",
        "print(df)"
      ],
      "metadata": {
        "colab": {
          "base_uri": "https://localhost:8080/"
        },
        "id": "-vEhL88SR2Q9",
        "outputId": "8294c7de-4906-428e-b7a3-eee552a81d28"
      },
      "execution_count": 7,
      "outputs": [
        {
          "output_type": "stream",
          "name": "stdout",
          "text": [
            "Original DataFrame:\n",
            "      Name  Age\n",
            "0    Alice   25\n",
            "1      Bob   -3\n",
            "2  Charlie   35\n",
            "3    David   -2\n",
            "4      Eve   42\n",
            "\n",
            "------------------------------\n",
            "\n",
            "Average age (ignoring negative values): 34.00\n",
            "\n",
            "Corrected DataFrame:\n",
            "      Name   Age\n",
            "0    Alice  25.0\n",
            "1      Bob  34.0\n",
            "2  Charlie  35.0\n",
            "3    David  34.0\n",
            "4      Eve  42.0\n"
          ]
        }
      ]
    },
    {
      "cell_type": "code",
      "source": [
        "import pandas as pd\n",
        "\n",
        "data = {'Age': [25, 30, 35, 40, 45, 50, 55, 60],\n",
        "        'Salary': [50000, 60000, 70000, 80000, 90000, 100000, 110000, 120000],\n",
        "        'Experience': [2, 5, 8, 10, 12, 15, 18, 20]}\n",
        "df = pd.DataFrame(data)\n",
        "\n",
        "summary_statistics = df.describe()\n",
        "\n",
        "print(summary_statistics)"
      ],
      "metadata": {
        "colab": {
          "base_uri": "https://localhost:8080/"
        },
        "id": "8dTt7cKpSTfN",
        "outputId": "6f5348d1-d78d-4f25-a1e7-7cfa1996fd33"
      },
      "execution_count": 8,
      "outputs": [
        {
          "output_type": "stream",
          "name": "stdout",
          "text": [
            "             Age         Salary  Experience\n",
            "count   8.000000       8.000000    8.000000\n",
            "mean   42.500000   85000.000000   11.250000\n",
            "std    12.247449   24494.897428    6.250714\n",
            "min    25.000000   50000.000000    2.000000\n",
            "25%    33.750000   67500.000000    7.250000\n",
            "50%    42.500000   85000.000000   11.000000\n",
            "75%    51.250000  102500.000000   15.750000\n",
            "max    60.000000  120000.000000   20.000000\n"
          ]
        }
      ]
    },
    {
      "cell_type": "code",
      "source": [
        "import pandas as pd\n",
        "\n",
        "data = {\n",
        "    'EmployeeID': [1, 2, 3, 4, 5, 6],\n",
        "    'Name': ['Alice', 'Bob', 'Charlie', 'David', 'Eve', 'Frank'],\n",
        "    'Department': ['HR', 'IT', 'HR', 'Sales', 'IT', 'Sales'],\n",
        "    'Salary': [60000, 75000, 62000, 80000, 78000, 85000]\n",
        "}\n",
        "df = pd.DataFrame(data)\n",
        "department_summary = df.groupby('Department').agg(\n",
        "    EmployeeCount=('EmployeeID', 'count'),\n",
        "    AverageSalary=('Salary', 'mean')\n",
        ")\n",
        "print(department_summary)"
      ],
      "metadata": {
        "colab": {
          "base_uri": "https://localhost:8080/"
        },
        "id": "rkjImjvGSeid",
        "outputId": "24c62370-1c61-4a3b-e9ea-c2c1906d1a78"
      },
      "execution_count": 10,
      "outputs": [
        {
          "output_type": "stream",
          "name": "stdout",
          "text": [
            "            EmployeeCount  AverageSalary\n",
            "Department                              \n",
            "HR                      2        61000.0\n",
            "IT                      2        76500.0\n",
            "Sales                   2        82500.0\n"
          ]
        }
      ]
    },
    {
      "cell_type": "code",
      "source": [
        "import pandas as pd\n",
        "\n",
        "\n",
        "df.to_csv('Exploratory Data Analysis.csv', index=False)"
      ],
      "metadata": {
        "id": "1AADL339TfSE"
      },
      "execution_count": 15,
      "outputs": []
    }
  ]
}