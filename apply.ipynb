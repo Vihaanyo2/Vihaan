{
  "nbformat": 4,
  "nbformat_minor": 0,
  "metadata": {
    "colab": {
      "provenance": []
    },
    "kernelspec": {
      "name": "python3",
      "display_name": "Python 3"
    },
    "language_info": {
      "name": "python"
    }
  },
  "cells": [
    {
      "cell_type": "code",
      "execution_count": 1,
      "metadata": {
        "colab": {
          "base_uri": "https://localhost:8080/"
        },
        "id": "WJnL5bp_RGZ2",
        "outputId": "e25f416b-76b6-4b40-9812-11d4f541a9ef"
      },
      "outputs": [
        {
          "output_type": "stream",
          "name": "stdout",
          "text": [
            "Original DataFrame:\n",
            "      Name  Salary\n",
            "0    Alice   50000\n",
            "1      Bob   60000\n",
            "2  Charlie   75000\n",
            "\n",
            "==============================\n",
            "\n",
            "Updated DataFrame:\n",
            "      Name  Salary  Updated_Salary\n",
            "0    Alice   50000         55000.0\n",
            "1      Bob   60000         66000.0\n",
            "2  Charlie   75000         82500.0\n"
          ]
        }
      ],
      "source": [
        "import pandas as pd\n",
        "\n",
        "data = {'Name': ['Alice', 'Bob', 'Charlie'],\n",
        "        'Salary': [50000, 60000, 75000]}\n",
        "df = pd.DataFrame(data)\n",
        "\n",
        "print(\"Original DataFrame:\")\n",
        "print(df)\n",
        "print(\"\\n\" + \"=\"*30 + \"\\n\")\n",
        "\n",
        "# 2. Increase the Salary by 10% and create a new column\n",
        "df['Updated_Salary'] = df['Salary'].apply(lambda x: x * 1.10)\n",
        "\n",
        "\n",
        "print(\"Updated DataFrame:\")\n",
        "print(df)"
      ]
    },
    {
      "cell_type": "code",
      "source": [
        "import pandas as pd\n",
        "\n",
        "data = {'Salary': [50000, 60000, 70000, 80000],\n",
        "        'Bonus': [5000, 6000, 7000, 8000]}\n",
        "df = pd.DataFrame(data)\n",
        "\n",
        "print(\"Original DataFrame:\")\n",
        "print(df)\n",
        "\n",
        "def calculate_total_compensation(row):\n",
        "    return row['Salary'] + row['Bonus']\n",
        "\n",
        "df['Total Compensation'] = df.apply(calculate_total_compensation, axis=1)\n",
        "\n",
        "print(\"\\nDataFrame with Total Compensation:\")\n",
        "print(df)"
      ],
      "metadata": {
        "colab": {
          "base_uri": "https://localhost:8080/"
        },
        "id": "IPZe1HkVRnkH",
        "outputId": "6499ff06-95f2-435c-adc2-7ecad795b4c5"
      },
      "execution_count": 2,
      "outputs": [
        {
          "output_type": "stream",
          "name": "stdout",
          "text": [
            "Original DataFrame:\n",
            "   Salary  Bonus\n",
            "0   50000   5000\n",
            "1   60000   6000\n",
            "2   70000   7000\n",
            "3   80000   8000\n",
            "\n",
            "DataFrame with Total Compensation:\n",
            "   Salary  Bonus  Total Compensation\n",
            "0   50000   5000               55000\n",
            "1   60000   6000               66000\n",
            "2   70000   7000               77000\n",
            "3   80000   8000               88000\n"
          ]
        }
      ]
    },
    {
      "cell_type": "code",
      "source": [
        "import pandas as pd\n",
        "import numpy as np\n",
        "\n",
        "data = {'Employee': ['Alice', 'Bob', 'Charlie', 'David', 'Eve', 'Frank'],\n",
        "        'Years_of_Experience': [2, 5, 8, 4, 6, 1]}\n",
        "df = pd.DataFrame(data)\n",
        "\n",
        "print(\"Original DataFrame:\")\n",
        "print(df)\n",
        "print(\"\\n\" + \"=\"*30 + \"\\n\")\n",
        "\n",
        "def classify_experience(years):\n",
        "    if years < 4:\n",
        "        return \"Beginner\"\n",
        "    elif 4 <= years <= 6:\n",
        "        return \"Intermediate\"\n",
        "    else:  # years > 6\n",
        "        return \"Expert\"\n",
        "\n",
        "df['Experience_Level'] = df['Years_of_Experience'].apply(classify_experience)\n",
        "\n",
        "print(\"DataFrame with new 'Experience_Level' column:\")\n",
        "print(df)"
      ],
      "metadata": {
        "colab": {
          "base_uri": "https://localhost:8080/"
        },
        "id": "WNLAwwboR22-",
        "outputId": "2a0a46d3-fcfe-42d6-9a4a-1a69af285c8f"
      },
      "execution_count": 3,
      "outputs": [
        {
          "output_type": "stream",
          "name": "stdout",
          "text": [
            "Original DataFrame:\n",
            "  Employee  Years_of_Experience\n",
            "0    Alice                    2\n",
            "1      Bob                    5\n",
            "2  Charlie                    8\n",
            "3    David                    4\n",
            "4      Eve                    6\n",
            "5    Frank                    1\n",
            "\n",
            "==============================\n",
            "\n",
            "DataFrame with new 'Experience_Level' column:\n",
            "  Employee  Years_of_Experience Experience_Level\n",
            "0    Alice                    2         Beginner\n",
            "1      Bob                    5     Intermediate\n",
            "2  Charlie                    8           Expert\n",
            "3    David                    4     Intermediate\n",
            "4      Eve                    6     Intermediate\n",
            "5    Frank                    1         Beginner\n"
          ]
        }
      ]
    },
    {
      "cell_type": "code",
      "source": [
        "import pandas as pd\n",
        "\n",
        "data = {'Name': ['Alice', 'Bob', 'Charlie', 'David', 'Eve'],\n",
        "        'Salary': [55000, 70000, 62000, 48000, 80000]}\n",
        "df = pd.DataFrame(data)\n",
        "\n",
        "df['High_Earner'] = df['Salary'].apply(lambda x: 'Yes' if x > 60000 else 'No')\n",
        "\n",
        "print(df)"
      ],
      "metadata": {
        "colab": {
          "base_uri": "https://localhost:8080/"
        },
        "id": "ZPq7eUwbSEbB",
        "outputId": "9af88cec-1f26-4b62-a33c-74cb247d1eaf"
      },
      "execution_count": 4,
      "outputs": [
        {
          "output_type": "stream",
          "name": "stdout",
          "text": [
            "      Name  Salary High_Earner\n",
            "0    Alice   55000          No\n",
            "1      Bob   70000         Yes\n",
            "2  Charlie   62000         Yes\n",
            "3    David   48000          No\n",
            "4      Eve   80000         Yes\n"
          ]
        }
      ]
    },
    {
      "cell_type": "code",
      "source": [
        "import pandas as pd\n",
        "import numpy as np\n",
        "\n",
        "data = {'Name': ['Alice', 'Bob', 'Charlie', 'David', 'Eve'],\n",
        "        'Bonus': [2500, 1800, 1200, 2000, 3000]}\n",
        "df = pd.DataFrame(data)\n",
        "\n",
        "print(\"Original DataFrame:\")\n",
        "print(df)\n",
        "def bonus_grade(bonus):\n",
        "    if bonus > 2000:\n",
        "        return \"Excellent\"\n",
        "    elif 1500 <= bonus <= 2000:\n",
        "        return \"Good\"\n",
        "    else:\n",
        "        return \"Average\"\n",
        "\n",
        "df['Bonus_Grade'] = df['Bonus'].apply(bonus_grade)\n",
        "\n",
        "print(\"\\nDataFrame with new column using .apply():\")\n",
        "print(df)\n",
        "conditions = [\n",
        "    (df['Bonus'] > 2000),\n",
        "    (df['Bonus'] >= 1500) & (df['Bonus'] <= 2000),\n",
        "    (df['Bonus'] < 1500)\n",
        "]\n",
        "\n",
        "choices = ['Excellent', 'Good', 'Average']\n",
        "\n",
        "df['Bonus_Grade'] = np.select(conditions, choices, default='Unknown')\n",
        "\n",
        "print(\"\\nDataFrame with new column using numpy.select():\")\n",
        "print(df)"
      ],
      "metadata": {
        "colab": {
          "base_uri": "https://localhost:8080/"
        },
        "id": "PiwLe5NRSPKC",
        "outputId": "c2aa7f0c-7d57-4817-9b4d-6d526b520cf3"
      },
      "execution_count": 5,
      "outputs": [
        {
          "output_type": "stream",
          "name": "stdout",
          "text": [
            "Original DataFrame:\n",
            "      Name  Bonus\n",
            "0    Alice   2500\n",
            "1      Bob   1800\n",
            "2  Charlie   1200\n",
            "3    David   2000\n",
            "4      Eve   3000\n",
            "\n",
            "DataFrame with new column using .apply():\n",
            "      Name  Bonus Bonus_Grade\n",
            "0    Alice   2500   Excellent\n",
            "1      Bob   1800        Good\n",
            "2  Charlie   1200     Average\n",
            "3    David   2000        Good\n",
            "4      Eve   3000   Excellent\n",
            "\n",
            "DataFrame with new column using numpy.select():\n",
            "      Name  Bonus Bonus_Grade\n",
            "0    Alice   2500   Excellent\n",
            "1      Bob   1800        Good\n",
            "2  Charlie   1200     Average\n",
            "3    David   2000        Good\n",
            "4      Eve   3000   Excellent\n"
          ]
        }
      ]
    },
    {
      "cell_type": "code",
      "source": [
        "import pandas as pd\n",
        "\n",
        "data = {'Name': ['Alice', 'Bob', 'Charlie'],\n",
        "        'Department': ['HR', 'Engineering', 'Marketing']}\n",
        "df = pd.DataFrame(data)\n",
        "def create_employee_tag(row):\n",
        "        return f\"{row['Name']} ({row['Department']})\"\n",
        "df['Employee_Tag'] = df.apply(create_employee_tag, axis=1)\n",
        "print(df)"
      ],
      "metadata": {
        "colab": {
          "base_uri": "https://localhost:8080/"
        },
        "id": "l59SHTxISpVG",
        "outputId": "01b7fb5a-a0e2-42dc-ee52-c0b6cf89969a"
      },
      "execution_count": 6,
      "outputs": [
        {
          "output_type": "stream",
          "name": "stdout",
          "text": [
            "      Name   Department         Employee_Tag\n",
            "0    Alice           HR           Alice (HR)\n",
            "1      Bob  Engineering    Bob (Engineering)\n",
            "2  Charlie    Marketing  Charlie (Marketing)\n"
          ]
        }
      ]
    },
    {
      "cell_type": "code",
      "source": [
        "import pandas as pd\n",
        "\n",
        "data = {\n",
        "    'Employee': ['Alice', 'Bob', 'Charlie', 'Diana'],\n",
        "    'Salary': [60000, 75000, 90000, 80000],\n",
        "    'Bonus': [6000, 15000, 4500, 8000]\n",
        "}\n",
        "df = pd.DataFrame(data)\n",
        "\n",
        "print(\"Original DataFrame:\")\n",
        "print(df)\n",
        "\n",
        "def calculate_bonus_percentage(row):\n",
        "    \"\"\"\n",
        "    Calculates the bonus as a percentage of the salary for a given row.\n",
        "    \"\"\"\n",
        "    if row['Salary'] > 0:\n",
        "        return (row['Bonus'] / row['Salary']) * 100\n",
        "    return 0\n",
        "\n",
        "df['Bonus_Percent'] = df.apply(calculate_bonus_percentage, axis=1)\n",
        "\n",
        "print(\"\\nDataFrame with 'Bonus_Percent' column:\")\n",
        "print(df)"
      ],
      "metadata": {
        "colab": {
          "base_uri": "https://localhost:8080/"
        },
        "id": "Ng_GR0iBS-Dl",
        "outputId": "840c8278-b37d-45d0-9082-a0e409f88460"
      },
      "execution_count": 7,
      "outputs": [
        {
          "output_type": "stream",
          "name": "stdout",
          "text": [
            "Original DataFrame:\n",
            "  Employee  Salary  Bonus\n",
            "0    Alice   60000   6000\n",
            "1      Bob   75000  15000\n",
            "2  Charlie   90000   4500\n",
            "3    Diana   80000   8000\n",
            "\n",
            "DataFrame with 'Bonus_Percent' column:\n",
            "  Employee  Salary  Bonus  Bonus_Percent\n",
            "0    Alice   60000   6000           10.0\n",
            "1      Bob   75000  15000           20.0\n",
            "2  Charlie   90000   4500            5.0\n",
            "3    Diana   80000   8000           10.0\n"
          ]
        }
      ]
    },
    {
      "cell_type": "code",
      "source": [
        "import pandas as pd\n",
        "\n",
        "data = {'Name': ['Alice', 'Bob', 'Charlie'],\n",
        "        'Salary': [75000, 150000, 2500000]}\n",
        "df = pd.DataFrame(data)\n",
        "\n",
        "def format_inr(value):\n",
        "    \"\"\"Formats an integer into Indian currency style (₹XX,XX,XXX).\"\"\"\n",
        "    s = str(int(value))\n",
        "    if len(s) > 3:\n",
        "        last_three = s[-3:]\n",
        "        other_digits = s[:-3]\n",
        "        s = f\"{format(int(other_digits), ',')},{last_three}\"\n",
        "    return f\"₹{s}\"\n",
        "\n",
        "df['Formatted_Salary'] = df['Salary'].apply(format_inr)\n",
        "\n",
        "print(df)"
      ],
      "metadata": {
        "colab": {
          "base_uri": "https://localhost:8080/"
        },
        "id": "Bxw7iUprTRFO",
        "outputId": "d5668f08-6c99-4555-952a-247a9be0fd28"
      },
      "execution_count": 8,
      "outputs": [
        {
          "output_type": "stream",
          "name": "stdout",
          "text": [
            "      Name   Salary Formatted_Salary\n",
            "0    Alice    75000          ₹75,000\n",
            "1      Bob   150000         ₹150,000\n",
            "2  Charlie  2500000       ₹2,500,000\n"
          ]
        }
      ]
    },
    {
      "cell_type": "code",
      "source": [
        "import pandas as pd\n",
        "\n",
        "data = {'Name': ['Alice', 'Bob', 'Charlie', 'David'],\n",
        "        'Experience': [7, 4, 6, 5],\n",
        "        'Bonus': [2500, 1500, 1800, 2100]}\n",
        "df = pd.DataFrame(data)\n",
        "\n",
        "print(\"Original DataFrame:\")\n",
        "print(df)\n",
        "df['Promotion_Eligible'] = df.apply(\n",
        "    lambda row: 'Yes' if row['Experience'] >= 5 and row['Bonus'] >= 2000 else 'No',\n",
        "    axis=1\n",
        ")\n",
        "\n",
        "print(\"\\nDataFrame with Promotion_Eligible column (using lambda):\")\n",
        "print(df)"
      ],
      "metadata": {
        "colab": {
          "base_uri": "https://localhost:8080/"
        },
        "id": "RLsQ9h9MTyIe",
        "outputId": "721694b3-dd59-4587-a941-fc160b5019f4"
      },
      "execution_count": 9,
      "outputs": [
        {
          "output_type": "stream",
          "name": "stdout",
          "text": [
            "Original DataFrame:\n",
            "      Name  Experience  Bonus\n",
            "0    Alice           7   2500\n",
            "1      Bob           4   1500\n",
            "2  Charlie           6   1800\n",
            "3    David           5   2100\n",
            "\n",
            "DataFrame with Promotion_Eligible column (using lambda):\n",
            "      Name  Experience  Bonus Promotion_Eligible\n",
            "0    Alice           7   2500                Yes\n",
            "1      Bob           4   1500                 No\n",
            "2  Charlie           6   1800                 No\n",
            "3    David           5   2100                Yes\n"
          ]
        }
      ]
    },
    {
      "cell_type": "code",
      "source": [
        "import pandas as pd\n",
        "\n",
        "data = {'Department': ['HR', 'IT', 'Finance', 'HR', 'IT'],\n",
        "        'Salary': [50000, 60000, 70000, 55000, 62000]}\n",
        "df = pd.DataFrame(data)\n",
        "\n",
        "def adjust_salary(row):\n",
        "    department = row['Department']\n",
        "    salary = row['Salary']\n",
        "\n",
        "    if department == 'HR':\n",
        "        return salary * 1.05  # +5%\n",
        "    elif department == 'IT':\n",
        "        return salary * 1.07  # +7%\n",
        "    elif department == 'Finance':\n",
        "        return salary * 1.10 # +10%\n",
        "    else:\n",
        "        return salary # No adjustment for other departments\n",
        "\n",
        "df['Dept_Adjusted_Salary'] = df.apply(adjust_salary, axis=1)\n",
        "\n",
        "print(df)"
      ],
      "metadata": {
        "colab": {
          "base_uri": "https://localhost:8080/"
        },
        "id": "bDy9TMsgT3Bu",
        "outputId": "8311dd78-7cbb-4bec-91f2-d43bd6796917"
      },
      "execution_count": 10,
      "outputs": [
        {
          "output_type": "stream",
          "name": "stdout",
          "text": [
            "  Department  Salary  Dept_Adjusted_Salary\n",
            "0         HR   50000               52500.0\n",
            "1         IT   60000               64200.0\n",
            "2    Finance   70000               77000.0\n",
            "3         HR   55000               57750.0\n",
            "4         IT   62000               66340.0\n"
          ]
        }
      ]
    }
  ]
}