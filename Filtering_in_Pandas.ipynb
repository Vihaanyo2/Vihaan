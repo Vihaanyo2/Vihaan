{
  "nbformat": 4,
  "nbformat_minor": 0,
  "metadata": {
    "colab": {
      "provenance": []
    },
    "kernelspec": {
      "name": "python3",
      "display_name": "Python 3"
    },
    "language_info": {
      "name": "python"
    }
  },
  "cells": [
    {
      "cell_type": "code",
      "execution_count": 4,
      "metadata": {
        "colab": {
          "base_uri": "https://localhost:8080/"
        },
        "id": "UB-uL_Awc7W3",
        "outputId": "c90f8be8-d94e-4ced-a0c9-4652102d5c6b"
      },
      "outputs": [
        {
          "output_type": "stream",
          "name": "stdout",
          "text": [
            "       City  Population  GDP\n",
            "0    Mumbai       10000  500\n",
            "1      Pune       20000  499\n",
            "2   Chennai       30000  999\n",
            "3  Banglore       40000  238\n"
          ]
        }
      ],
      "source": [
        "import pandas as pd\n",
        "df = pd.read_csv('Book1.csv')\n",
        "print(df.head())"
      ]
    },
    {
      "cell_type": "code",
      "source": [
        "students = [\n",
        "    {'name': 'Alice', 'maths': 85, 'science': 90, 'english': 78},\n",
        "    {'name': 'Bob', 'maths': 35, 'science': 45, 'english': 60},\n",
        "    {'name': 'Charlie', 'maths': 55, 'science': 65, 'english': 58},\n",
        "    {'name': 'David', 'maths': 92, 'science': 88, 'english': 95}\n",
        "]\n",
        "filtered_students = [\n",
        "    student for student in students\n",
        "    if student['maths'] > 40 and student['science'] > 40 and student['english'] > 40\n",
        "]\n",
        "print(filtered_students)"
      ],
      "metadata": {
        "colab": {
          "base_uri": "https://localhost:8080/"
        },
        "id": "bPzJflPMdTZ9",
        "outputId": "b57ee331-56b6-4320-fec8-941ac966d280"
      },
      "execution_count": 5,
      "outputs": [
        {
          "output_type": "stream",
          "name": "stdout",
          "text": [
            "[{'name': 'Alice', 'maths': 85, 'science': 90, 'english': 78}, {'name': 'Charlie', 'maths': 55, 'science': 65, 'english': 58}, {'name': 'David', 'maths': 92, 'science': 88, 'english': 95}]\n"
          ]
        }
      ]
    },
    {
      "cell_type": "code",
      "source": [
        "students = [\n",
        "    {\"Name\": \"Alice\", \"City\": \"Mumbai\"},\n",
        "    {\"Name\": \"Bob\", \"City\": \"Delhi\"},\n",
        "    {\"Name\": \"Charlie\", \"City\": \"Mumbai\"},\n",
        "    {\"Name\": \"David\", \"City\": \"Kolkata\"},\n",
        "]\n",
        "\n",
        "mumbai_students = [student for student in students if student[\"City\"] == \"Mumbai\"]\n",
        "\n",
        "print(mumbai_students)"
      ],
      "metadata": {
        "colab": {
          "base_uri": "https://localhost:8080/"
        },
        "id": "ZYQPn96teLxc",
        "outputId": "b4f01e27-72bd-4f96-8b51-afd6194e3e43"
      },
      "execution_count": 7,
      "outputs": [
        {
          "output_type": "stream",
          "name": "stdout",
          "text": [
            "[{'Name': 'Alice', 'City': 'Mumbai'}, {'Name': 'Charlie', 'City': 'Mumbai'}]\n"
          ]
        }
      ]
    },
    {
      "cell_type": "code",
      "source": [
        "student_scores = {\n",
        "    \"Alice\": [85, 90, 78, 95],\n",
        "    \"Bob\": [35, 70, 60, 80],\n",
        "    \"Charlie\": [92, 88, 95, 98],\n",
        "    \"David\": [45, 38, 75, 85],\n",
        "    \"Eve\": [50, 65, 70, 75]\n",
        "}\n",
        "\n",
        "failed_students = []\n",
        "for student, scores in student_scores.items():\n",
        "  for score in scores:\n",
        "        if score < 40:\n",
        "            failed_students.append(student)\n",
        "            break\n",
        "print(\"Students who scored less than 40 in at least one subject:\")\n",
        "for student in failed_students:\n",
        "    print(student)"
      ],
      "metadata": {
        "colab": {
          "base_uri": "https://localhost:8080/"
        },
        "id": "BgAO0GMCeNPd",
        "outputId": "c30be3c6-14d2-4fbd-d4bb-7fd1db215774"
      },
      "execution_count": 8,
      "outputs": [
        {
          "output_type": "stream",
          "name": "stdout",
          "text": [
            "Students who scored less than 40 in at least one subject:\n",
            "Bob\n",
            "David\n"
          ]
        }
      ]
    },
    {
      "cell_type": "code",
      "source": [
        "import pandas as pd\n",
        "data = {\n",
        "    'Name': ['Alice', 'Bob', 'Charlie', 'David', 'Eva'],\n",
        "    'Math': [85, 76, 92, 68, 95],\n",
        "    'Science': [90, 88, 78, 85, 91],\n",
        "    'History': [78, 82, 95, 75, 89]\n",
        "}\n",
        "df = pd.DataFrame(data)\n",
        "\n",
        "print(\"Original DataFrame:\")\n",
        "print(df)\n",
        "print(\"\\n\" + \"=\"*30 + \"\\n\")\n",
        "marks_columns = ['Math', 'Science', 'History']\n",
        "df['Average'] = df[marks_columns].mean(axis=1)\n",
        "\n",
        "print(\"DataFrame with new 'Average' column:\")\n",
        "print(df)\n",
        "print(\"\\n\" + \"=\"*30 + \"\\n\")\n",
        "filtered_students = df[df['Average'] > 80]\n",
        "\n",
        "print(\"Students with an average greater than 80:\")\n",
        "print(filtered_students)"
      ],
      "metadata": {
        "colab": {
          "base_uri": "https://localhost:8080/"
        },
        "id": "U0JLEFMLek9Q",
        "outputId": "e73baf17-6620-4d82-cdab-13133a3e32f9"
      },
      "execution_count": 9,
      "outputs": [
        {
          "output_type": "stream",
          "name": "stdout",
          "text": [
            "Original DataFrame:\n",
            "      Name  Math  Science  History\n",
            "0    Alice    85       90       78\n",
            "1      Bob    76       88       82\n",
            "2  Charlie    92       78       95\n",
            "3    David    68       85       75\n",
            "4      Eva    95       91       89\n",
            "\n",
            "==============================\n",
            "\n",
            "DataFrame with new 'Average' column:\n",
            "      Name  Math  Science  History    Average\n",
            "0    Alice    85       90       78  84.333333\n",
            "1      Bob    76       88       82  82.000000\n",
            "2  Charlie    92       78       95  88.333333\n",
            "3    David    68       85       75  76.000000\n",
            "4      Eva    95       91       89  91.666667\n",
            "\n",
            "==============================\n",
            "\n",
            "Students with an average greater than 80:\n",
            "      Name  Math  Science  History    Average\n",
            "0    Alice    85       90       78  84.333333\n",
            "1      Bob    76       88       82  82.000000\n",
            "2  Charlie    92       78       95  88.333333\n",
            "4      Eva    95       91       89  91.666667\n"
          ]
        }
      ]
    },
    {
      "cell_type": "code",
      "source": [
        "all_students = [\"Alice\", \"Bob\", \"Charlie\", \"David\", \"Anna\"]\n",
        "students_starting_with_a = [name for name in all_students if name.startswith(\"A\")]\n",
        "print(students_starting_with_a)"
      ],
      "metadata": {
        "colab": {
          "base_uri": "https://localhost:8080/"
        },
        "id": "Cp0BudOpe3An",
        "outputId": "c7a5ed2e-ddc1-4a6a-cbe5-6d5adda35ea5"
      },
      "execution_count": 10,
      "outputs": [
        {
          "output_type": "stream",
          "name": "stdout",
          "text": [
            "['Alice', 'Anna']\n"
          ]
        }
      ]
    },
    {
      "cell_type": "code",
      "source": [
        "students = [\n",
        "    {\"name\": \"Alice\", \"city\": \"Delhi\", \"maths_marks\": 80},\n",
        "    {\"name\": \"Bob\", \"city\": \"Mumbai\", \"maths_marks\": 90},\n",
        "    {\"name\": \"Charlie\", \"city\": \"Delhi\", \"maths_marks\": 70},\n",
        "    {\"name\": \"David\", \"city\": \"Delhi\", \"maths_marks\": 85},\n",
        "]\n",
        "filtered_students = []\n",
        "for student in students:\n",
        "    if student[\"city\"] == \"Delhi\" and student[\"maths_marks\"] > 75:\n",
        "        filtered_students.append(student)\n",
        "for student in filtered_students:\n",
        "    print(student[\"name\"])"
      ],
      "metadata": {
        "colab": {
          "base_uri": "https://localhost:8080/"
        },
        "id": "uAPWDpUlfFEA",
        "outputId": "62853b69-847d-4692-918b-b90b814c0f21"
      },
      "execution_count": 11,
      "outputs": [
        {
          "output_type": "stream",
          "name": "stdout",
          "text": [
            "Alice\n",
            "David\n"
          ]
        }
      ]
    },
    {
      "cell_type": "code",
      "source": [
        "students = [\n",
        "    {\"name\": \"Alice\", \"city\": \"Mumbai\", \"English_marks\": 75},\n",
        "    {\"name\": \"Bob\", \"city\": \"Delhi\", \"English_marks\": 45},\n",
        "    {\"name\": \"Charlie\", \"city\": \"Mumbai\", \"English_marks\": 30},\n",
        "    {\"name\": \"David\", \"city\": \"Pune\", \"English_marks\": 60},\n",
        "    {\"name\": \"Eve\", \"city\": \"Mumbai\", \"English_marks\": 49},\n",
        "    {\"name\": \"Fiona\", \"city\": \"Delhi\", \"English_marks\": 85},\n",
        "]\n",
        "filtered_students = []\n",
        "for student in students:\n",
        "    if student[\"city\"] == \"Mumbai\" or student[\"English_marks\"] < 50:\n",
        "        filtered_students.append(student)\n",
        "for student in filtered_students:\n",
        "    print(student)"
      ],
      "metadata": {
        "colab": {
          "base_uri": "https://localhost:8080/"
        },
        "id": "iYXeyfF3fWOs",
        "outputId": "dd01703e-c841-4362-d727-12436481867e"
      },
      "execution_count": 12,
      "outputs": [
        {
          "output_type": "stream",
          "name": "stdout",
          "text": [
            "{'name': 'Alice', 'city': 'Mumbai', 'English_marks': 75}\n",
            "{'name': 'Bob', 'city': 'Delhi', 'English_marks': 45}\n",
            "{'name': 'Charlie', 'city': 'Mumbai', 'English_marks': 30}\n",
            "{'name': 'Eve', 'city': 'Mumbai', 'English_marks': 49}\n"
          ]
        }
      ]
    },
    {
      "cell_type": "code",
      "source": [
        "import csv\n",
        "with open('passed_students.csv', 'w', newline='') as file:\n",
        "    writer = csv.writer(file)\n",
        "    writer.writerows(passed_students)"
      ],
      "metadata": {
        "colab": {
          "base_uri": "https://localhost:8080/",
          "height": 176
        },
        "id": "xcOSGHjRfpa1",
        "outputId": "2b263301-e310-40b3-c5ee-4f6bbbe2db8a"
      },
      "execution_count": 14,
      "outputs": [
        {
          "output_type": "error",
          "ename": "NameError",
          "evalue": "name 'passed_students' is not defined",
          "traceback": [
            "\u001b[0;31m---------------------------------------------------------------------------\u001b[0m",
            "\u001b[0;31mNameError\u001b[0m                                 Traceback (most recent call last)",
            "\u001b[0;32m/tmp/ipython-input-260164137.py\u001b[0m in \u001b[0;36m<cell line: 0>\u001b[0;34m()\u001b[0m\n\u001b[1;32m      2\u001b[0m \u001b[0;32mwith\u001b[0m \u001b[0mopen\u001b[0m\u001b[0;34m(\u001b[0m\u001b[0;34m'passed_students.csv'\u001b[0m\u001b[0;34m,\u001b[0m \u001b[0;34m'w'\u001b[0m\u001b[0;34m,\u001b[0m \u001b[0mnewline\u001b[0m\u001b[0;34m=\u001b[0m\u001b[0;34m''\u001b[0m\u001b[0;34m)\u001b[0m \u001b[0;32mas\u001b[0m \u001b[0mfile\u001b[0m\u001b[0;34m:\u001b[0m\u001b[0;34m\u001b[0m\u001b[0;34m\u001b[0m\u001b[0m\n\u001b[1;32m      3\u001b[0m     \u001b[0mwriter\u001b[0m \u001b[0;34m=\u001b[0m \u001b[0mcsv\u001b[0m\u001b[0;34m.\u001b[0m\u001b[0mwriter\u001b[0m\u001b[0;34m(\u001b[0m\u001b[0mfile\u001b[0m\u001b[0;34m)\u001b[0m\u001b[0;34m\u001b[0m\u001b[0;34m\u001b[0m\u001b[0m\n\u001b[0;32m----> 4\u001b[0;31m     \u001b[0mwriter\u001b[0m\u001b[0;34m.\u001b[0m\u001b[0mwriterows\u001b[0m\u001b[0;34m(\u001b[0m\u001b[0mpassed_students\u001b[0m\u001b[0;34m)\u001b[0m\u001b[0;34m\u001b[0m\u001b[0;34m\u001b[0m\u001b[0m\n\u001b[0m",
            "\u001b[0;31mNameError\u001b[0m: name 'passed_students' is not defined"
          ]
        }
      ]
    },
    {
      "cell_type": "code",
      "metadata": {
        "colab": {
          "base_uri": "https://localhost:8080/"
        },
        "id": "5b10f24e",
        "outputId": "5c9c98b7-a620-4f59-a305-9c3981ad4363"
      },
      "source": [
        "import csv\n",
        "\n",
        "# Assuming you want to save the filtered_students list from cell bPzJflPMdTZ9\n",
        "# which contains students who scored more than 40 in all subjects.\n",
        "# If you intended to use a different list, please specify which one.\n",
        "\n",
        "students = [\n",
        "    {'name': 'Alice', 'maths': 85, 'science': 90, 'english': 78},\n",
        "    {'name': 'Bob', 'maths': 35, 'science': 45, 'english': 60},\n",
        "    {'name': 'Charlie', 'maths': 55, 'science': 65, 'english': 58},\n",
        "    {'name': 'David', 'maths': 92, 'science': 88, 'english': 95}\n",
        "]\n",
        "filtered_students = [\n",
        "    student for student in students\n",
        "    if student['maths'] > 40 and student['science'] > 40 and student['english'] > 40\n",
        "]\n",
        "\n",
        "with open('passed_students.csv', 'w', newline='') as file:\n",
        "    writer = csv.writer(file)\n",
        "    # Write the header row\n",
        "    writer.writerow(filtered_students[0].keys())\n",
        "    # Write the data rows\n",
        "    for student in filtered_students:\n",
        "        writer.writerow(student.values())\n",
        "\n",
        "print(\"Successfully wrote filtered students to passed_students.csv\")"
      ],
      "execution_count": 15,
      "outputs": [
        {
          "output_type": "stream",
          "name": "stdout",
          "text": [
            "Successfully wrote filtered students to passed_students.csv\n"
          ]
        }
      ]
    }
  ]
}