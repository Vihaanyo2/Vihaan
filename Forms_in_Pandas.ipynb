{
  "nbformat": 4,
  "nbformat_minor": 0,
  "metadata": {
    "colab": {
      "provenance": []
    },
    "kernelspec": {
      "name": "python3",
      "display_name": "Python 3"
    },
    "language_info": {
      "name": "python"
    }
  },
  "cells": [
    {
      "cell_type": "code",
      "execution_count": 3,
      "metadata": {
        "colab": {
          "base_uri": "https://localhost:8080/"
        },
        "id": "KfY8KpX-JK-s",
        "outputId": "025a9f6d-c3d7-48d4-9daa-97d4dcd31a24"
      },
      "outputs": [
        {
          "output_type": "stream",
          "name": "stdout",
          "text": [
            "   Employee_ID           Name  Age Department  Salary Joining_Date  \\\n",
            "0          101       John Doe   28         IT   50000   15-06-2018   \n",
            "1          102     Jane Smith   32         HR   60000   23-09-2016   \n",
            "2          103    Emily Davis   45    Finance   80000   04-11-2012   \n",
            "3          104  Michael Brown   29         IT   55000   12-07-2019   \n",
            "4          105   Chris Wilson   35  Marketing   62000   19-03-2015   \n",
            "\n",
            "            City  \n",
            "0       New York  \n",
            "1    Los Angeles  \n",
            "2        Chicago  \n",
            "3       New York  \n",
            "4  San Francisco  \n"
          ]
        }
      ],
      "source": [
        "import pandas as pd\n",
        "\n",
        "df = pd.read_csv('Forms.csv')\n",
        "\n",
        "print(df.head())"
      ]
    },
    {
      "cell_type": "code",
      "source": [
        "import pandas as pd\n",
        "\n",
        "data = {'Name': ['Alice', 'Bob', 'Charlie', 'David'],\n",
        "        'Age': [25, 30, 35, 40],\n",
        "        'City': ['New York', 'London', 'Paris', 'Tokyo']}\n",
        "df = pd.DataFrame(data)\n",
        "name_series = df['Name']\n",
        "\n",
        "print(name_series)"
      ],
      "metadata": {
        "colab": {
          "base_uri": "https://localhost:8080/"
        },
        "id": "Wse_6jZxJ8AR",
        "outputId": "0848d554-a0bd-4344-a26e-530a90604540"
      },
      "execution_count": 4,
      "outputs": [
        {
          "output_type": "stream",
          "name": "stdout",
          "text": [
            "0      Alice\n",
            "1        Bob\n",
            "2    Charlie\n",
            "3      David\n",
            "Name: Name, dtype: object\n"
          ]
        }
      ]
    },
    {
      "cell_type": "code",
      "source": [
        "import pandas as pd\n",
        "data = {\n",
        "    \"Product\": [\"Laptop\", \"Mouse\", \"Keyboard\", \"Monitor\"],\n",
        "    \"Price\": [1200, 25, 75, 300],\n",
        "    \"Quantity\": [10, 50, 30, 5]\n",
        "}\n",
        "\n",
        "df = pd.DataFrame(data)\n",
        "\n",
        "print(df)"
      ],
      "metadata": {
        "colab": {
          "base_uri": "https://localhost:8080/"
        },
        "id": "D6UUYYNVKdAg",
        "outputId": "4b31c785-0ee1-4a0e-bd49-bf4bfee14be1"
      },
      "execution_count": 5,
      "outputs": [
        {
          "output_type": "stream",
          "name": "stdout",
          "text": [
            "    Product  Price  Quantity\n",
            "0    Laptop   1200        10\n",
            "1     Mouse     25        50\n",
            "2  Keyboard     75        30\n",
            "3   Monitor    300         5\n"
          ]
        }
      ]
    },
    {
      "cell_type": "code",
      "source": [
        "import pandas as pd\n",
        "\n",
        "name_series = pd.Series(['Alice', 'Bob', 'Charlie'], name='Name')\n",
        "\n",
        "employee_name_df = name_series.to_frame(name='Employee_Name')\n",
        "\n",
        "print(employee_name_df)"
      ],
      "metadata": {
        "colab": {
          "base_uri": "https://localhost:8080/"
        },
        "id": "mxIJS617Kxlg",
        "outputId": "7a4d3950-78d4-48ce-8a14-fd2202b706da"
      },
      "execution_count": 6,
      "outputs": [
        {
          "output_type": "stream",
          "name": "stdout",
          "text": [
            "  Employee_Name\n",
            "0         Alice\n",
            "1           Bob\n",
            "2       Charlie\n"
          ]
        }
      ]
    },
    {
      "cell_type": "code",
      "source": [
        "import pandas as pd\n",
        "\n",
        "data = {'Name': ['Alice', 'Bob', 'Charlie', 'David'],\n",
        "        'Age': [25, 30, 35, 40],\n",
        "        'Department': ['HR', 'IT', 'Finance', 'Sales'],\n",
        "        'Salary': [50000, 60000, 70000, 80000]}\n",
        "df = pd.DataFrame(data)\n",
        "\n",
        "new_df = df[['Name', 'Age', 'Department']]\n",
        "\n",
        "print(new_df)"
      ],
      "metadata": {
        "colab": {
          "base_uri": "https://localhost:8080/"
        },
        "id": "RN3LIFDQK8Do",
        "outputId": "4c1d57da-dfbf-4847-cf0f-50f809d6e8e7"
      },
      "execution_count": 7,
      "outputs": [
        {
          "output_type": "stream",
          "name": "stdout",
          "text": [
            "      Name  Age Department\n",
            "0    Alice   25         HR\n",
            "1      Bob   30         IT\n",
            "2  Charlie   35    Finance\n",
            "3    David   40      Sales\n"
          ]
        }
      ]
    },
    {
      "cell_type": "code",
      "source": [
        "import pandas as pd\n",
        "\n",
        "data = {'col1': [1, 2, 3, 4, 5],\n",
        "        'col2': [10.5, 11.2, 9.8, 12.1, 10.0],\n",
        "        'col3': ['A', 'B', 'C', 'D', 'E']}\n",
        "df = pd.DataFrame(data)\n",
        "\n",
        "summary_statistics = df.describe()\n",
        "\n",
        "print(summary_statistics)"
      ],
      "metadata": {
        "colab": {
          "base_uri": "https://localhost:8080/"
        },
        "id": "lZ7KhASlLGg5",
        "outputId": "260bdb43-9016-4a2b-a5b7-3605af9ad7a0"
      },
      "execution_count": 8,
      "outputs": [
        {
          "output_type": "stream",
          "name": "stdout",
          "text": [
            "           col1       col2\n",
            "count  5.000000   5.000000\n",
            "mean   3.000000  10.720000\n",
            "std    1.581139   0.941807\n",
            "min    1.000000   9.800000\n",
            "25%    2.000000  10.000000\n",
            "50%    3.000000  10.500000\n",
            "75%    4.000000  11.200000\n",
            "max    5.000000  12.100000\n"
          ]
        }
      ]
    },
    {
      "cell_type": "code",
      "source": [
        "import pandas as pd\n",
        "\n",
        "data = {'Employee_ID': [101, 102, 103, 104],\n",
        "        'Name': ['Alice', 'Bob', 'Charlie', 'David'],\n",
        "        'Department': ['HR', 'IT', 'Finance', 'HR']}\n",
        "df = pd.DataFrame(data)\n",
        "\n",
        "df.set_index('Employee_ID', inplace=True)\n",
        "\n",
        "print(df)"
      ],
      "metadata": {
        "colab": {
          "base_uri": "https://localhost:8080/"
        },
        "id": "NTCXflRpLXRo",
        "outputId": "e3564202-7ea8-4ff1-8b18-53b222903360"
      },
      "execution_count": 9,
      "outputs": [
        {
          "output_type": "stream",
          "name": "stdout",
          "text": [
            "                Name Department\n",
            "Employee_ID                    \n",
            "101            Alice         HR\n",
            "102              Bob         IT\n",
            "103          Charlie    Finance\n",
            "104            David         HR\n"
          ]
        }
      ]
    },
    {
      "cell_type": "code",
      "source": [
        "import pandas as pd\n",
        "\n",
        "data = {'Name': ['Alice', 'Bob'], 'Age': [25, 30]}\n",
        "df = pd.DataFrame(data)\n",
        "\n",
        "df_dict_default = df.to_dict()\n",
        "print(df_dict_default)"
      ],
      "metadata": {
        "colab": {
          "base_uri": "https://localhost:8080/"
        },
        "id": "HU2TOfG3Li5J",
        "outputId": "165d6336-e34b-4e98-9f5c-deff78472102"
      },
      "execution_count": 10,
      "outputs": [
        {
          "output_type": "stream",
          "name": "stdout",
          "text": [
            "{'Name': {0: 'Alice', 1: 'Bob'}, 'Age': {0: 25, 1: 30}}\n"
          ]
        }
      ]
    },
    {
      "cell_type": "code",
      "source": [
        "import pandas as pd\n",
        "\n",
        "data = {'Name': ['Alice', 'Bob', 'Charlie'],\n",
        "        'Salary': [70000, 80000, 95000],\n",
        "        'City': ['New York', 'Los Angeles', 'Chicago']}\n",
        "df = pd.DataFrame(data)\n",
        "\n",
        "df = df.rename(columns={'Salary': 'Annual_Salary', 'City': 'Location'})\n",
        "\n",
        "print(df)"
      ],
      "metadata": {
        "colab": {
          "base_uri": "https://localhost:8080/"
        },
        "id": "H1NraEQ-LuII",
        "outputId": "cdee3c93-967f-4e9b-a90c-d49cb2b8374b"
      },
      "execution_count": 11,
      "outputs": [
        {
          "output_type": "stream",
          "name": "stdout",
          "text": [
            "      Name  Annual_Salary     Location\n",
            "0    Alice          70000     New York\n",
            "1      Bob          80000  Los Angeles\n",
            "2  Charlie          95000      Chicago\n"
          ]
        }
      ]
    }
  ]
}