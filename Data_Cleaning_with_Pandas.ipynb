{
  "nbformat": 4,
  "nbformat_minor": 0,
  "metadata": {
    "colab": {
      "provenance": []
    },
    "kernelspec": {
      "name": "python3",
      "display_name": "Python 3"
    },
    "language_info": {
      "name": "python"
    }
  },
  "cells": [
    {
      "cell_type": "code",
      "execution_count": 1,
      "metadata": {
        "colab": {
          "base_uri": "https://localhost:8080/"
        },
        "id": "2q8q2KZG9Yw9",
        "outputId": "063f4ad2-1a25-4a24-dd6e-e68d54727aca"
      },
      "outputs": [
        {
          "output_type": "stream",
          "name": "stdout",
          "text": [
            "Error: 'dirty_employees.csv' not found. Please ensure the file is in the correct directory.\n",
            "First 5 rows of the DataFrame:\n",
            "   id          name department  start_date   salary\n",
            "0   1      John Doe      Sales  2020-01-15  60000.0\n",
            "1   2    Jane Smith  Marketing  2021-03-22  65000.0\n",
            "2   3   Peter Jones      Sales  2020-01-15  62000.0\n",
            "3   4  Mary Johnson         HR  2022-05-10  58000.0\n",
            "4   5     David Lee       None  2019-11-01      NaN\n",
            "\n",
            "Missing values in each column:\n",
            "id            0\n",
            "name          0\n",
            "department    1\n",
            "start_date    0\n",
            "salary        1\n",
            "dtype: int64\n"
          ]
        }
      ],
      "source": [
        "import pandas as pd\n",
        "\n",
        "try:\n",
        "    df = pd.read_csv('dirty_employees.csv')\n",
        "except FileNotFoundError:\n",
        "    print(\"Error: 'dirty_employees.csv' not found. Please ensure the file is in the correct directory.\")\n",
        "    # Create a sample DataFrame for demonstration if the file is missing\n",
        "    data = {\n",
        "        'id': [1, 2, 3, 4, 5],\n",
        "        'name': ['John Doe', 'Jane Smith', 'Peter Jones', 'Mary Johnson', 'David Lee'],\n",
        "        'department': ['Sales', 'Marketing', 'Sales', 'HR', None],\n",
        "        'start_date': ['2020-01-15', '2021-03-22', '2020-01-15', '2022-05-10', '2019-11-01'],\n",
        "        'salary': [60000, 65000, 62000, 58000, None]\n",
        "    }\n",
        "    df = pd.DataFrame(data)\n",
        "\n",
        "print(\"First 5 rows of the DataFrame:\")\n",
        "print(df.head())\n",
        "\n",
        "print(\"\\nMissing values in each column:\")\n",
        "print(df.isnull().sum())"
      ]
    },
    {
      "cell_type": "code",
      "source": [
        "import pandas as pd\n",
        "import numpy as np\n",
        "\n",
        "data = {\n",
        "    'Employee_ID': [101, 102, np.nan, 104, 105],\n",
        "    'Name': ['Alice', np.nan, 'Charlie', 'David', np.nan],\n",
        "    'Department': ['HR', 'IT', 'Marketing', 'IT', 'HR'],\n",
        "    'Salary': [70000, 80000, 60000, np.nan, 75000]\n",
        "}\n",
        "\n",
        "df = pd.DataFrame(data)\n",
        "print(\"Original DataFrame:\")\n",
        "print(df)"
      ],
      "metadata": {
        "colab": {
          "base_uri": "https://localhost:8080/"
        },
        "id": "6_L6CFgA974e",
        "outputId": "47f98616-b637-4eb7-91f0-747f982b6a5f"
      },
      "execution_count": 2,
      "outputs": [
        {
          "output_type": "stream",
          "name": "stdout",
          "text": [
            "Original DataFrame:\n",
            "   Employee_ID     Name Department   Salary\n",
            "0        101.0    Alice         HR  70000.0\n",
            "1        102.0      NaN         IT  80000.0\n",
            "2          NaN  Charlie  Marketing  60000.0\n",
            "3        104.0    David         IT      NaN\n",
            "4        105.0      NaN         HR  75000.0\n"
          ]
        }
      ]
    },
    {
      "cell_type": "code",
      "source": [
        "import pandas as pd\n",
        "\n",
        "df_unique_rows = df.drop_duplicates()\n",
        "\n",
        "# Using existing column names 'Department' and 'Salary' as an example\n",
        "df_unique_subset = df.drop_duplicates(subset=['Department', 'Salary'])\n",
        "\n",
        "df_keep_last = df.drop_duplicates(keep='last')\n",
        "\n",
        "print(\"DataFrame after dropping duplicates based on 'Department' and 'Salary':\")\n",
        "print(df_unique_subset)"
      ],
      "metadata": {
        "colab": {
          "base_uri": "https://localhost:8080/"
        },
        "id": "kueBotvL-KrV",
        "outputId": "58d3f531-1d00-44fb-f44e-785bb1fad162"
      },
      "execution_count": 4,
      "outputs": [
        {
          "output_type": "stream",
          "name": "stdout",
          "text": [
            "DataFrame after dropping duplicates based on 'Department' and 'Salary':\n",
            "   Employee_ID     Name Department   Salary\n",
            "0        101.0    Alice         HR  70000.0\n",
            "1        102.0      NaN         IT  80000.0\n",
            "2          NaN  Charlie  Marketing  60000.0\n",
            "3        104.0    David         IT      NaN\n",
            "4        105.0      NaN         HR  75000.0\n"
          ]
        }
      ]
    },
    {
      "cell_type": "code",
      "source": [
        "import pandas as pd\n",
        "import numpy as np\n",
        "data = {'Name': ['Alice', 'Bob', 'Charlie', 'David', 'Eve'],\n",
        "        'Age': [25, -1, 32, -5, 41]}\n",
        "df = pd.DataFrame(data)\n",
        "\n",
        "print(\"Original DataFrame:\")\n",
        "print(df)"
      ],
      "metadata": {
        "colab": {
          "base_uri": "https://localhost:8080/"
        },
        "id": "tenAdX0b-hPE",
        "outputId": "56bb139e-1e93-4b88-c232-d454bfec68ec"
      },
      "execution_count": 5,
      "outputs": [
        {
          "output_type": "stream",
          "name": "stdout",
          "text": [
            "Original DataFrame:\n",
            "      Name  Age\n",
            "0    Alice   25\n",
            "1      Bob   -1\n",
            "2  Charlie   32\n",
            "3    David   -5\n",
            "4      Eve   41\n"
          ]
        }
      ]
    },
    {
      "cell_type": "code",
      "source": [
        "import pandas as pd\n",
        "import numpy as np\n",
        "\n",
        "salaries = [45000, 50000, 52000, 55000, 58000, 60000, 62000, 65000, 70000, 72000, 75000, 80000, 90000, 150000, 250000, 500000]\n",
        "\n",
        "salary_series = pd.Series(salaries)\n",
        "\n",
        "Q1 = salary_series.quantile(0.25)\n",
        "Q3 = salary_series.quantile(0.75)\n",
        "\n",
        "IQR = Q3 - Q1\n",
        "\n",
        "upper_threshold = Q3 + 1.5 * IQR\n",
        "\n",
        "print(f\"Q1: {Q1}\")\n",
        "print(f\"Q3: {Q3}\")\n",
        "print(f\"IQR: {IQR}\")\n",
        "print(f\"Upper Threshold (Q3 + 1.5 * IQR): {upper_threshold}\\n\")\n",
        "\n",
        "outliers = salary_series[salary_series > upper_threshold]\n",
        "\n",
        "print(\"Outliers (salaries > upper threshold):\")\n",
        "print(outliers)\n",
        "\n",
        "salaries_cleaned = salary_series[salary_series <= upper_threshold]\n",
        "\n",
        "print(\"\\nCleaned salary data (outliers removed):\")\n",
        "print(salaries_cleaned)"
      ],
      "metadata": {
        "colab": {
          "base_uri": "https://localhost:8080/"
        },
        "id": "50oRgJyv-rLl",
        "outputId": "2caffcbd-1d48-4a05-ae64-6d89c363dd75"
      },
      "execution_count": 6,
      "outputs": [
        {
          "output_type": "stream",
          "name": "stdout",
          "text": [
            "Q1: 57250.0\n",
            "Q3: 82500.0\n",
            "IQR: 25250.0\n",
            "Upper Threshold (Q3 + 1.5 * IQR): 120375.0\n",
            "\n",
            "Outliers (salaries > upper threshold):\n",
            "13    150000\n",
            "14    250000\n",
            "15    500000\n",
            "dtype: int64\n",
            "\n",
            "Cleaned salary data (outliers removed):\n",
            "0     45000\n",
            "1     50000\n",
            "2     52000\n",
            "3     55000\n",
            "4     58000\n",
            "5     60000\n",
            "6     62000\n",
            "7     65000\n",
            "8     70000\n",
            "9     72000\n",
            "10    75000\n",
            "11    80000\n",
            "12    90000\n",
            "dtype: int64\n"
          ]
        }
      ]
    },
    {
      "cell_type": "code",
      "source": [
        "import pandas as pd\n",
        "\n",
        "df['Age'] = pd.to_numeric(df['Age'], errors='coerce').astype(int)"
      ],
      "metadata": {
        "id": "7OwLVcKr--u9"
      },
      "execution_count": 8,
      "outputs": []
    },
    {
      "cell_type": "code",
      "source": [
        "def format_name(name):\n",
        "\n",
        "    trimmed_name = \" \".join(name.split())\n",
        "\n",
        "    return trimmed_name.title()\n",
        "\n",
        "names = [\"  jOHN    f. doe \", \"  alice   w. smith  \"]\n",
        "formatted_names = [format_name(name) for name in names]\n",
        "\n",
        "print(formatted_names)"
      ],
      "metadata": {
        "colab": {
          "base_uri": "https://localhost:8080/"
        },
        "id": "jHGNb17G_Rgt",
        "outputId": "a63c5458-aa54-4583-c16d-6e8788db26da"
      },
      "execution_count": 9,
      "outputs": [
        {
          "output_type": "stream",
          "name": "stdout",
          "text": [
            "['John F. Doe', 'Alice W. Smith']\n"
          ]
        }
      ]
    },
    {
      "cell_type": "code",
      "source": [
        "import pandas as pd\n",
        "\n",
        "data = {'employee': ['Alice', 'Bob', 'Charlie'],\n",
        "        'department': [' hr', 'HR ', 'Hr']}\n",
        "df = pd.DataFrame(data)\n",
        "\n",
        "# Define the standardization function\n",
        "def standardize_department(department_name):\n",
        "    if isinstance(department_name, str):\n",
        "        # Convert to uppercase and remove whitespace\n",
        "        return department_name.strip().upper()\n",
        "    return department_name\n",
        "\n",
        "# Apply the function to the 'department' column\n",
        "df['department'] = df['department'].apply(standardize_department)\n",
        "\n",
        "print(df)"
      ],
      "metadata": {
        "colab": {
          "base_uri": "https://localhost:8080/"
        },
        "id": "rtLFkAnM_g7O",
        "outputId": "5cfc16fe-497d-4ea5-a174-b9c3da752a25"
      },
      "execution_count": 10,
      "outputs": [
        {
          "output_type": "stream",
          "name": "stdout",
          "text": [
            "  employee department\n",
            "0    Alice         HR\n",
            "1      Bob         HR\n",
            "2  Charlie         HR\n"
          ]
        }
      ]
    },
    {
      "cell_type": "code",
      "source": [
        "import pandas as pd\n",
        "df.to_csv('Data analysis.csv', index=False)"
      ],
      "metadata": {
        "id": "nUHFb_xS_1FF"
      },
      "execution_count": 14,
      "outputs": []
    }
  ]
}